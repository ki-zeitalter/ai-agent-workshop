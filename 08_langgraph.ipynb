{
 "cells": [
  {
   "cell_type": "markdown",
   "metadata": {},
   "source": [
    "# LangGraph - Eine Einführung\n",
    "\n",
    "Bis jetzt haben wir uns mit einem einzigen Agenten zufrieden gegeben. Aber wir können die Power der Agenten multiplizieren, wenn wir uns ein Agentensystem bauen!\n",
    "Stell dir vor, du hast ein System, in dem für jede Aufgabe ein spezialisierter Agent zuständig ist. Komplexe Aufgaben werden z.B. durch einen Planer-Agent in Teilaufgaben heruntergebrochen und auf andere spezialisierte Agenten verteilt. Ein Koordinator kümmert sich um die Zusammenarbeit und trägt die Einzelergebnisse zusammen.\n",
    "\n",
    "Das ist meines Erachtens die Zukunft. Stand heute Mitte 2024 gibt es diese Systeme schon, wenn auch nicht immer perfekt funktionierend. Aber die Entwicklung geht rasant voran und ich bin überzeugt, dass wir bald sehr gute Agentensysteme haben werden.\n",
    "\n",
    "Aber so ein System ist komplex und es wäre sicher nicht sinnvoll das alles selber programmieren zu wollen. Deswegen möchten wir LangGraph kennenlernen und nutzen.\n",
    "\n",
    "## Was ist LangGraph?\n",
    "\n",
    "Laut der Beschreibung von den LangGraph-Machern selbst: \n",
    "> \"LangGraph is a library for building stateful, multi-actor applications with LLMs, used to create agent and multi-agent workflows. \"\n",
    "\n",
    "Also handelt es sich um eine Bibliothek mit der wir Multi-Agenten Systeme (Agent Swarm) und Workflows bauen können! Mehr Details hier: https://langchain-ai.github.io/langgraph/\n",
    "\n",
    "Was ist der Unterschied zu anderen Agenten-Frameworks wie AutoGen und Co.? LangGraph ist viel mehr Low-Level, d.h. man hat wesentlich mehr Kontrolle darüber, was und wie ausgeführt wird. Die anderen Frameworks hingegen verstecken die Logik. Oft definiert man dort, welche Agenten es gibt und welche Rollen sie haben. Die Art und Weise, wie sie interagieren etc. ist praktisch eine Blackbox.\n",
    "Nachteil: LangGraph ist schwerer zu lernen.\n",
    "\n",
    "Wir werden auch gleich sehen, dass die Programmierung eines Agentensystems auf Basis von LangGraph viel mit der Definition eines Workflowsystems zu tun hat.\n",
    "Das Prinzip ist, dass KI (LLM ) dazu verwendet wird Entscheidungen zu treffen und Aktionen auszuführen, basierend auf dem Kontext.\n",
    "\n",
    "Ein paar Zeilen Code sagen mehr als tausend Worte (berühmtes Zitat von S. Grünheit)... "
   ]
  },
  {
   "cell_type": "markdown",
   "metadata": {},
   "source": [
    "Wir wollen erstmal LangGraph ohne KI mal anschauen... einfach um das Gefühl zu bekommen, wie es tickt... Aber erstmal müssen wir LangGraph installieren."
   ]
  },
  {
   "cell_type": "code",
   "execution_count": 63,
   "metadata": {},
   "outputs": [
    {
     "name": "stdout",
     "output_type": "stream",
     "text": [
      "Requirement already satisfied: langgraph in ./.venv/lib/python3.11/site-packages (0.1.5)\n",
      "Requirement already satisfied: langchain_openai in ./.venv/lib/python3.11/site-packages (0.1.9)\n",
      "Requirement already satisfied: langchain-core<0.3,>=0.2 in ./.venv/lib/python3.11/site-packages (from langgraph) (0.2.9)\n",
      "Requirement already satisfied: openai<2.0.0,>=1.26.0 in ./.venv/lib/python3.11/site-packages (from langchain_openai) (1.35.3)\n",
      "Requirement already satisfied: tiktoken<1,>=0.7 in ./.venv/lib/python3.11/site-packages (from langchain_openai) (0.7.0)\n",
      "Requirement already satisfied: PyYAML>=5.3 in ./.venv/lib/python3.11/site-packages (from langchain-core<0.3,>=0.2->langgraph) (6.0.1)\n",
      "Requirement already satisfied: jsonpatch<2.0,>=1.33 in ./.venv/lib/python3.11/site-packages (from langchain-core<0.3,>=0.2->langgraph) (1.33)\n",
      "Requirement already satisfied: langsmith<0.2.0,>=0.1.75 in ./.venv/lib/python3.11/site-packages (from langchain-core<0.3,>=0.2->langgraph) (0.1.81)\n",
      "Requirement already satisfied: packaging<25,>=23.2 in ./.venv/lib/python3.11/site-packages (from langchain-core<0.3,>=0.2->langgraph) (24.1)\n",
      "Requirement already satisfied: pydantic<3,>=1 in ./.venv/lib/python3.11/site-packages (from langchain-core<0.3,>=0.2->langgraph) (2.7.4)\n",
      "Requirement already satisfied: tenacity!=8.4.0,<9.0.0,>=8.1.0 in ./.venv/lib/python3.11/site-packages (from langchain-core<0.3,>=0.2->langgraph) (8.4.1)\n",
      "Requirement already satisfied: anyio<5,>=3.5.0 in ./.venv/lib/python3.11/site-packages (from openai<2.0.0,>=1.26.0->langchain_openai) (4.4.0)\n",
      "Requirement already satisfied: distro<2,>=1.7.0 in ./.venv/lib/python3.11/site-packages (from openai<2.0.0,>=1.26.0->langchain_openai) (1.9.0)\n",
      "Requirement already satisfied: httpx<1,>=0.23.0 in ./.venv/lib/python3.11/site-packages (from openai<2.0.0,>=1.26.0->langchain_openai) (0.27.0)\n",
      "Requirement already satisfied: sniffio in ./.venv/lib/python3.11/site-packages (from openai<2.0.0,>=1.26.0->langchain_openai) (1.3.1)\n",
      "Requirement already satisfied: tqdm>4 in ./.venv/lib/python3.11/site-packages (from openai<2.0.0,>=1.26.0->langchain_openai) (4.66.4)\n",
      "Requirement already satisfied: typing-extensions<5,>=4.7 in ./.venv/lib/python3.11/site-packages (from openai<2.0.0,>=1.26.0->langchain_openai) (4.12.2)\n",
      "Requirement already satisfied: regex>=2022.1.18 in ./.venv/lib/python3.11/site-packages (from tiktoken<1,>=0.7->langchain_openai) (2024.5.15)\n",
      "Requirement already satisfied: requests>=2.26.0 in ./.venv/lib/python3.11/site-packages (from tiktoken<1,>=0.7->langchain_openai) (2.32.3)\n",
      "Requirement already satisfied: idna>=2.8 in ./.venv/lib/python3.11/site-packages (from anyio<5,>=3.5.0->openai<2.0.0,>=1.26.0->langchain_openai) (3.7)\n",
      "Requirement already satisfied: certifi in ./.venv/lib/python3.11/site-packages (from httpx<1,>=0.23.0->openai<2.0.0,>=1.26.0->langchain_openai) (2024.6.2)\n",
      "Requirement already satisfied: httpcore==1.* in ./.venv/lib/python3.11/site-packages (from httpx<1,>=0.23.0->openai<2.0.0,>=1.26.0->langchain_openai) (1.0.5)\n",
      "Requirement already satisfied: h11<0.15,>=0.13 in ./.venv/lib/python3.11/site-packages (from httpcore==1.*->httpx<1,>=0.23.0->openai<2.0.0,>=1.26.0->langchain_openai) (0.14.0)\n",
      "Requirement already satisfied: jsonpointer>=1.9 in ./.venv/lib/python3.11/site-packages (from jsonpatch<2.0,>=1.33->langchain-core<0.3,>=0.2->langgraph) (3.0.0)\n",
      "Requirement already satisfied: orjson<4.0.0,>=3.9.14 in ./.venv/lib/python3.11/site-packages (from langsmith<0.2.0,>=0.1.75->langchain-core<0.3,>=0.2->langgraph) (3.10.5)\n",
      "Requirement already satisfied: annotated-types>=0.4.0 in ./.venv/lib/python3.11/site-packages (from pydantic<3,>=1->langchain-core<0.3,>=0.2->langgraph) (0.7.0)\n",
      "Requirement already satisfied: pydantic-core==2.18.4 in ./.venv/lib/python3.11/site-packages (from pydantic<3,>=1->langchain-core<0.3,>=0.2->langgraph) (2.18.4)\n",
      "Requirement already satisfied: charset-normalizer<4,>=2 in ./.venv/lib/python3.11/site-packages (from requests>=2.26.0->tiktoken<1,>=0.7->langchain_openai) (3.3.2)\n",
      "Requirement already satisfied: urllib3<3,>=1.21.1 in ./.venv/lib/python3.11/site-packages (from requests>=2.26.0->tiktoken<1,>=0.7->langchain_openai) (2.2.2)\n",
      "\n",
      "\u001b[1m[\u001b[0m\u001b[34;49mnotice\u001b[0m\u001b[1;39;49m]\u001b[0m\u001b[39;49m A new release of pip is available: \u001b[0m\u001b[31;49m24.1\u001b[0m\u001b[39;49m -> \u001b[0m\u001b[32;49m24.1.1\u001b[0m\n",
      "\u001b[1m[\u001b[0m\u001b[34;49mnotice\u001b[0m\u001b[1;39;49m]\u001b[0m\u001b[39;49m To update, run: \u001b[0m\u001b[32;49mpip install --upgrade pip\u001b[0m\n"
     ]
    }
   ],
   "source": [
    "!pip install langgraph langchain_openai"
   ]
  },
  {
   "cell_type": "markdown",
   "metadata": {},
   "source": [
    "Jetzt bauen wir uns einen kleinen Graph. Dieser Graph macht zwar nichts besonders sinnvolles, aber er zeigt die Grundstruktur!"
   ]
  },
  {
   "cell_type": "code",
   "execution_count": 64,
   "metadata": {},
   "outputs": [],
   "source": [
    "from langgraph.graph import MessageGraph, START, END\n",
    "from langchain_core.messages import HumanMessage\n",
    "\n",
    "# Wir erstellen einen MessageGraph. Das ist ein Graph, dessen \"State\" aus Messages besteht\n",
    "graph = MessageGraph()\n",
    "\n",
    "def modify_message(input: list[HumanMessage]):\n",
    "    input[-1].content = input[-1].content + \" - wurde geändert\"\n",
    "    return input\n",
    "\n",
    "# Wir fügen zwei Nodes hinzu, die die Nachrichten verändern\n",
    "graph.add_node(\"Node A\", modify_message)\n",
    "graph.add_node(\"Node B\", modify_message)\n",
    "graph.add_node(\"Node C\", modify_message)\n",
    "\n",
    "graph.add_edge(START, \"Node A\")\n",
    "graph.add_edge(\"Node A\", \"Node B\")\n",
    "graph.add_edge(\"Node A\", \"Node C\")\n",
    "\n",
    "graph.add_edge(\"Node B\", END)\n",
    "graph.add_edge(\"Node C\", END)\n",
    "\n",
    "runnable = graph.compile()"
   ]
  },
  {
   "cell_type": "code",
   "execution_count": 65,
   "metadata": {},
   "outputs": [
    {
     "data": {
      "image/jpeg": "[encoded data removed]",
      "text/plain": [
       "<IPython.core.display.Image object>"
      ]
     },
     "metadata": {},
     "output_type": "display_data"
    }
   ],
   "source": [
    "from IPython.display import Image, display\n",
    "\n",
    "try:\n",
    "    display(Image(runnable.get_graph().draw_mermaid_png()))\n",
    "except Exception:\n",
    "    pass\n",
    "\n"
   ]
  },
  {
   "cell_type": "code",
   "execution_count": 66,
   "metadata": {},
   "outputs": [
    {
     "data": {
      "text/plain": [
       "[HumanMessage(content='Hallo Welt! - wurde geändert - wurde geändert - wurde geändert', id='2c804cb0-e7d2-44f0-8d8e-d17491976f19')]"
      ]
     },
     "execution_count": 66,
     "metadata": {},
     "output_type": "execute_result"
    }
   ],
   "source": [
    "runnable.invoke([HumanMessage(\"Hallo Welt!\")])"
   ]
  },
  {
   "cell_type": "markdown",
   "metadata": {},
   "source": [
    "## Die Grundbausteine\n",
    "\n",
    "LangGraph kennt drei wesentliche Grundbausteine: _Node_, _Edge_ und _State_. Schauen wir uns diese mal genauer an.\n",
    "\n",
    "### Node\n",
    "Eine Funktion (Runnable) die den _State_ ändert und zurück gibt. Ein _Node_ bekommt einen _State_ als Eingabeparameter und entscheidet anhand des _State_ was zu tun ist und führt ggfs. irgendwelche Operationen aus. Anschliessend wird der _State_ geändert und zurückgeben. \n",
    "\n",
    "### Edge\n",
    "_Edges_ verbinden die _Nodes_. Es gibt auch _Conditional-Edges_ die einen Kontrollfluss erlauben.\n",
    "\n",
    "### State\n",
    "_State_ beinhaltet die Daten, die von den _Nodes_ angepasst und zurückgegeben werden."
   ]
  },
  {
   "cell_type": "markdown",
   "metadata": {},
   "source": [
    "Lasst uns die _Conditional-Edges_ mal anschauen."
   ]
  },
  {
   "cell_type": "code",
   "execution_count": 67,
   "metadata": {},
   "outputs": [],
   "source": [
    "from langgraph.graph import MessageGraph, START, END\n",
    "from langchain_core.messages import HumanMessage\n",
    "\n",
    "graph = MessageGraph()\n",
    "\n",
    "def mache_etwas_mit_nachrichten(input: list[HumanMessage]):\n",
    "    print(\"Mache etwas mit Nachrichten\")\n",
    "    return input\n",
    "\n",
    "def fuege_welt_hinzu(input: list[HumanMessage]):\n",
    "    input[-1].content = input[-1].content + \" Welt!\"\n",
    "    return input\n",
    " \n",
    "def ist_hallo_dann_welt(input: list[HumanMessage]):\n",
    "    if input[-1].content == \"Hallo\":\n",
    "        return \"Node B\"\n",
    "    else:\n",
    "        return \"Node C\"\n",
    "\n",
    "# Wir fügen zwei Nodes hinzu, die die Nachrichten verändern\n",
    "graph.add_node(\"Node A\", mache_etwas_mit_nachrichten)\n",
    "graph.add_node(\"Node B\", fuege_welt_hinzu)\n",
    "graph.add_node(\"Node C\", mache_etwas_mit_nachrichten)\n",
    "\n",
    "graph.add_edge(START, \"Node A\")\n",
    "graph.add_conditional_edges(\"Node A\", ist_hallo_dann_welt)\n",
    "\n",
    "# Hinweis: bei add_conditional_edges können wir auch ein Mapping von Rückgabewert auf Nodes angeben\n",
    "# graph.add_conditional_edges(\"Node A\", ist_hallo_dann_welt, { \"Node B\": \"Node B\", \"Node C\": \"Node C\" })\n",
    "\n",
    "graph.add_edge(\"Node B\", END)\n",
    "graph.add_edge(\"Node C\", END)\n",
    "\n",
    "runnable = graph.compile()"
   ]
  },
  {
   "cell_type": "code",
   "execution_count": 68,
   "metadata": {},
   "outputs": [
    {
     "data": {
      "image/jpeg": "[encoded data removed]",
      "text/plain": [
       "<IPython.core.display.Image object>"
      ]
     },
     "metadata": {},
     "output_type": "display_data"
    }
   ],
   "source": [
    "from IPython.display import Image, display\n",
    "\n",
    "try:\n",
    "    display(Image(runnable.get_graph().draw_mermaid_png()))\n",
    "except Exception:\n",
    "    pass"
   ]
  },
  {
   "cell_type": "code",
   "execution_count": 69,
   "metadata": {},
   "outputs": [
    {
     "name": "stdout",
     "output_type": "stream",
     "text": [
      "Mache etwas mit Nachrichten\n"
     ]
    },
    {
     "data": {
      "text/plain": [
       "[HumanMessage(content='Hallo Welt!', id='da62f34c-94d2-4694-adbe-99319e67b04f')]"
      ]
     },
     "execution_count": 69,
     "metadata": {},
     "output_type": "execute_result"
    }
   ],
   "source": [
    "runnable.invoke([HumanMessage(\"Hallo\")])"
   ]
  },
  {
   "cell_type": "code",
   "execution_count": 70,
   "metadata": {},
   "outputs": [
    {
     "name": "stdout",
     "output_type": "stream",
     "text": [
      "Mache etwas mit Nachrichten\n",
      "Mache etwas mit Nachrichten\n"
     ]
    },
    {
     "data": {
      "text/plain": [
       "[HumanMessage(content='Hi', id='558ec999-b089-4f3a-bd0c-86aea4a7e456')]"
      ]
     },
     "execution_count": 70,
     "metadata": {},
     "output_type": "execute_result"
    }
   ],
   "source": [
    "runnable.invoke([HumanMessage(\"Hi\")])"
   ]
  },
  {
   "cell_type": "markdown",
   "metadata": {},
   "source": [
    "Ok soweit so gut... lass uns das etwas aufbohren und eine Zyklus einbauen."
   ]
  },
  {
   "cell_type": "code",
   "execution_count": 71,
   "metadata": {},
   "outputs": [],
   "source": [
    "from langgraph.graph import MessageGraph, START, END\n",
    "from langchain_core.messages import HumanMessage\n",
    "\n",
    "graph = MessageGraph()\n",
    "\n",
    "def mache_etwas_mit_nachrichten(input: list[HumanMessage]):\n",
    "    input.append(HumanMessage(\"Blabla\"))\n",
    "    return input\n",
    " \n",
    "def pruefe_laenge(input: list[HumanMessage]):\n",
    "    if len(input) > 5:\n",
    "        return \"Reicht!\"\n",
    "    else:\n",
    "        return \"Komm geht noch weiter!\"\n",
    "\n",
    "\n",
    "graph.add_node(\"Node A\", mache_etwas_mit_nachrichten)\n",
    "\n",
    "graph.add_edge(START, \"Node A\")\n",
    "graph.add_conditional_edges(\"Node A\", pruefe_laenge, { \"Reicht!\": END, \"Komm geht noch weiter!\": \"Node A\" })\n",
    "\n",
    "runnable = graph.compile()"
   ]
  },
  {
   "cell_type": "code",
   "execution_count": 72,
   "metadata": {},
   "outputs": [
    {
     "data": {
      "image/jpeg": "[encoded data removed]",
      "text/plain": [
       "<IPython.core.display.Image object>"
      ]
     },
     "metadata": {},
     "output_type": "display_data"
    }
   ],
   "source": [
    "display(Image(runnable.get_graph().draw_mermaid_png()))"
   ]
  },
  {
   "cell_type": "code",
   "execution_count": 73,
   "metadata": {},
   "outputs": [
    {
     "data": {
      "text/plain": [
       "[HumanMessage(content='Hallo', id='eb8646d0-db93-42fe-88b2-63d9b1fa7561'),\n",
       " HumanMessage(content='Blabla', id='e4e2bcc8-228c-42da-a7b4-e9ee820795cc'),\n",
       " HumanMessage(content='Blabla', id='866d82a2-69f1-4407-902b-0afd78b0e48d'),\n",
       " HumanMessage(content='Blabla', id='bee9e183-a41d-43cb-976b-b6fc729e864d'),\n",
       " HumanMessage(content='Blabla', id='b837499f-2b1b-4fd2-9dac-50e3ba9379b1'),\n",
       " HumanMessage(content='Blabla', id='6235fa5f-5ff5-4a0e-b742-37afc626c097')]"
      ]
     },
     "execution_count": 73,
     "metadata": {},
     "output_type": "execute_result"
    }
   ],
   "source": [
    "runnable.invoke([HumanMessage(\"Hallo\")])"
   ]
  },
  {
   "cell_type": "markdown",
   "metadata": {},
   "source": [
    "Wir haben jetzt die Grundbausteine kennengelernt, also lass uns jetzt etwas sinnvolles machen: lasst uns das Hallo-Welt der KIs bauen: einen Chatbot!\n",
    "\n",
    "Der Chatbot soll solange Fragen entgegen nehmen und beantworten, bis der Benutzer \"exit\" eingibt."
   ]
  },
  {
   "cell_type": "code",
   "execution_count": 74,
   "metadata": {},
   "outputs": [],
   "source": [
    "import os\n",
    "from dotenv import load_dotenv\n",
    "from langchain_openai import ChatOpenAI, AzureChatOpenAI\n",
    "\n",
    "load_dotenv()\n",
    "os.environ[\"OPENAI_API_KEY\"] = os.getenv(\"OPENAI_API_KEY\")\n",
    "os.environ[\"AZURE_OPENAI_API_KEY\"] = os.getenv(\"AZURE_OPENAI_API_KEY\")\n",
    "os.environ[\"AZURE_OPENAI_ENDPOINT\"] = os.getenv(\"AZURE_OPENAI_ENDPOINT\")\n",
    "\n",
    "# model = ChatOpenAI(model=\"gpt-4o\")\n",
    "model = AzureChatOpenAI(openai_api_version=\"2024-05-01-preview\", azure_deployment=\"gpt-4o\", temperature=0.5)"
   ]
  },
  {
   "cell_type": "code",
   "execution_count": 75,
   "metadata": {},
   "outputs": [],
   "source": [
    "from typing import Annotated\n",
    "from typing_extensions import TypedDict\n",
    "\n",
    "from langgraph.graph import StateGraph, START, END\n",
    "from langgraph.graph.message import add_messages\n",
    "\n",
    "\n",
    "class State(TypedDict):\n",
    "    messages: Annotated[list, add_messages]\n",
    "\n",
    "\n",
    "graph_builder = StateGraph(State)"
   ]
  },
  {
   "cell_type": "code",
   "execution_count": 76,
   "metadata": {},
   "outputs": [],
   "source": [
    "def get_user_input(state: State):\n",
    "    user_input = input(\"User: \")\n",
    "    state[\"messages\"].append(HumanMessage(user_input))\n",
    "    return state\n",
    "\n",
    "def chatbot(state: State):\n",
    "    response = model.invoke(state[\"messages\"])\n",
    "    print(\"Bot:\", response.content)\n",
    "\n",
    "    state[\"messages\"].append(response)\n",
    "\n",
    "    return state\n",
    "\n",
    "def is_end(state: State):\n",
    "    if(state[\"messages\"][-1].content == \"exit\"):\n",
    "        return \"end\"\n",
    "    else:\n",
    "        return \"continue\"\n",
    "    \n",
    "\n",
    "graph_builder.add_node(\"chatbot\", chatbot)\n",
    "graph_builder.add_node(\"get_user_input\", get_user_input)"
   ]
  },
  {
   "cell_type": "code",
   "execution_count": 77,
   "metadata": {},
   "outputs": [],
   "source": [
    "graph_builder.add_edge(START, \"get_user_input\")\n",
    "graph_builder.add_conditional_edges(\"get_user_input\", is_end, { \"end\": END, \"continue\": \"chatbot\" })\n",
    "graph_builder.add_edge(\"chatbot\", \"get_user_input\")"
   ]
  },
  {
   "cell_type": "code",
   "execution_count": 78,
   "metadata": {},
   "outputs": [],
   "source": [
    "graph = graph_builder.compile()"
   ]
  },
  {
   "cell_type": "code",
   "execution_count": 79,
   "metadata": {},
   "outputs": [
    {
     "data": {
      "image/jpeg": "[encoded data removed]",
      "text/plain": [
       "<IPython.core.display.Image object>"
      ]
     },
     "metadata": {},
     "output_type": "display_data"
    }
   ],
   "source": [
    "from IPython.display import Image, display\n",
    "\n",
    "try:\n",
    "    display(Image(graph.get_graph().draw_mermaid_png()))\n",
    "except Exception:\n",
    "    pass"
   ]
  },
  {
   "cell_type": "code",
   "execution_count": 80,
   "metadata": {},
   "outputs": [
    {
     "name": "stdout",
     "output_type": "stream",
     "text": [
      "Bot: Hello! How can I assist you today?\n",
      "Bot: Sure! What kind of story would you like to hear? It could be an adventure, a fairy tale, a mystery, or something else entirely. Let me know!\n",
      "Bot: Alright, here's a mystery story for you:\n",
      "\n",
      "---\n",
      "\n",
      "**The Whispering Shadows**\n",
      "\n",
      "In the quaint town of Eldridge, nestled between rolling hills and dense forests, there was an old mansion known as Ravenwood Manor. The mansion had stood for centuries, its grand architecture now cloaked in ivy and mystery. The townspeople often spoke in hushed tones about the eerie occurrences that surrounded the manor, but few dared to venture near.\n",
      "\n",
      "One crisp autumn evening, a young journalist named Clara Bennett arrived in Eldridge. Clara had always been fascinated by unsolved mysteries, and Ravenwood Manor was at the top of her list. Determined to uncover the truth behind the whispers, she decided to spend the night in the mansion.\n",
      "\n",
      "Armed with a flashlight, a notebook, and a camera, Clara made her way to the manor just as the sun dipped below the horizon. The iron gates creaked open, and she walked up the overgrown path to the grand entrance. Taking a deep breath, she pushed open the heavy wooden door and stepped inside.\n",
      "\n",
      "The interior of the mansion was just as she had imagined: grand yet decayed, with dust-covered furniture and cobwebs hanging from the chandeliers. As she explored the rooms, she noticed strange symbols carved into the walls and floors, some of which seemed to glow faintly in the dim light.\n",
      "\n",
      "In the library, Clara found an old journal hidden behind a row of dusty books. The journal belonged to a man named Jonathan Ravenscroft, the original owner of the manor. As she read through the entries, she discovered that Jonathan had been an avid collector of rare artifacts, many of which were said to possess supernatural powers.\n",
      "\n",
      "One entry, dated October 31st, 1863, caught her attention:\n",
      "\n",
      "*\"Tonight, I shall attempt the ritual to communicate with the spirits that dwell within these walls. The artifacts are in place, and the symbols are drawn. I must know if the legends are true.\"*\n",
      "\n",
      "Intrigued, Clara decided to follow in Jonathan's footsteps. She gathered the artifacts mentioned in the journal and arranged them in a circle in the grand hall. As she completed the final symbol, a sudden chill filled the air, and the candles flickered.\n",
      "\n",
      "A faint whisper echoed through the hall, growing louder with each passing second. Clara's heart raced as she realized the whispers were forming words: \"Help us... free us...\"\n",
      "\n",
      "Determined to uncover the truth, Clara followed the whispers to the basement, where she found a hidden door. Behind it was a small, dimly lit room with a single, ancient mirror. The whispers grew louder, and as Clara approached the mirror, she saw the reflection of a group of ghostly figures trapped within.\n",
      "\n",
      "One of the figures, a woman with sorrowful eyes, spoke directly to Clara. \"We are the spirits bound to this place by Jonathan's ritual. He sought power, but instead, he trapped us here. You must break the seal to free us.\"\n",
      "\n",
      "Clara remembered the glowing symbols and quickly realized that they were the key. She hurried back to the grand hall and began to erase the symbols one by one. As the last symbol faded, a blinding light filled the room, and the whispers turned into relieved sighs.\n",
      "\n",
      "When the light subsided, the mansion felt different—warmer, almost welcoming. The spirits were gone, finally free from their centuries-old prison. Clara left Ravenwood Manor with a sense of accomplishment and a story that would captivate her readers.\n",
      "\n",
      "As she walked back to town, she couldn't help but glance back at the mansion. For the first time in years, it seemed at peace, its shadows no longer whispering secrets of the past.\n",
      "\n",
      "---\n",
      "\n",
      "I hope you enjoyed the mystery! If you have any other requests or need anything else, feel free to ask.\n"
     ]
    },
    {
     "data": {
      "text/plain": [
       "{'messages': [HumanMessage(content='Hi!', id='6d0f2169-3a79-40fe-81ff-eee7e659f9c2'),\n",
       "  AIMessage(content='Hello! How can I assist you today?', response_metadata={'token_usage': {'completion_tokens': 9, 'prompt_tokens': 9, 'total_tokens': 18}, 'model_name': 'gpt-4o-2024-05-13', 'system_fingerprint': 'fp_abc28019ad', 'prompt_filter_results': [{'prompt_index': 0, 'content_filter_results': {'hate': {'filtered': False, 'severity': 'safe'}, 'self_harm': {'filtered': False, 'severity': 'safe'}, 'sexual': {'filtered': False, 'severity': 'safe'}, 'violence': {'filtered': False, 'severity': 'safe'}}}], 'finish_reason': 'stop', 'logprobs': None, 'content_filter_results': {'hate': {'filtered': False, 'severity': 'safe'}, 'self_harm': {'filtered': False, 'severity': 'safe'}, 'sexual': {'filtered': False, 'severity': 'safe'}, 'violence': {'filtered': False, 'severity': 'safe'}}}, id='run-b9b9a840-90f0-43e0-8b45-eff84757d929-0', usage_metadata={'input_tokens': 9, 'output_tokens': 9, 'total_tokens': 18}),\n",
       "  HumanMessage(content='You could tell me a story', id='d5eec572-40bb-4bec-b6c3-ae6096709892'),\n",
       "  AIMessage(content='Sure! What kind of story would you like to hear? It could be an adventure, a fairy tale, a mystery, or something else entirely. Let me know!', response_metadata={'token_usage': {'completion_tokens': 34, 'prompt_tokens': 32, 'total_tokens': 66}, 'model_name': 'gpt-4o-2024-05-13', 'system_fingerprint': 'fp_abc28019ad', 'prompt_filter_results': [{'prompt_index': 0, 'content_filter_results': {'hate': {'filtered': False, 'severity': 'safe'}, 'self_harm': {'filtered': False, 'severity': 'safe'}, 'sexual': {'filtered': False, 'severity': 'safe'}, 'violence': {'filtered': False, 'severity': 'safe'}}}], 'finish_reason': 'stop', 'logprobs': None, 'content_filter_results': {'hate': {'filtered': False, 'severity': 'safe'}, 'self_harm': {'filtered': False, 'severity': 'safe'}, 'sexual': {'filtered': False, 'severity': 'safe'}, 'violence': {'filtered': False, 'severity': 'safe'}}}, id='run-3e732933-5e53-4ac3-8d9a-98101e370ce7-0', usage_metadata={'input_tokens': 32, 'output_tokens': 34, 'total_tokens': 66}),\n",
       "  HumanMessage(content='mistery', id='0e62b07b-65e3-4b20-9f4e-151f70d02eff'),\n",
       "  AIMessage(content='Alright, here\\'s a mystery story for you:\\n\\n---\\n\\n**The Whispering Shadows**\\n\\nIn the quaint town of Eldridge, nestled between rolling hills and dense forests, there was an old mansion known as Ravenwood Manor. The mansion had stood for centuries, its grand architecture now cloaked in ivy and mystery. The townspeople often spoke in hushed tones about the eerie occurrences that surrounded the manor, but few dared to venture near.\\n\\nOne crisp autumn evening, a young journalist named Clara Bennett arrived in Eldridge. Clara had always been fascinated by unsolved mysteries, and Ravenwood Manor was at the top of her list. Determined to uncover the truth behind the whispers, she decided to spend the night in the mansion.\\n\\nArmed with a flashlight, a notebook, and a camera, Clara made her way to the manor just as the sun dipped below the horizon. The iron gates creaked open, and she walked up the overgrown path to the grand entrance. Taking a deep breath, she pushed open the heavy wooden door and stepped inside.\\n\\nThe interior of the mansion was just as she had imagined: grand yet decayed, with dust-covered furniture and cobwebs hanging from the chandeliers. As she explored the rooms, she noticed strange symbols carved into the walls and floors, some of which seemed to glow faintly in the dim light.\\n\\nIn the library, Clara found an old journal hidden behind a row of dusty books. The journal belonged to a man named Jonathan Ravenscroft, the original owner of the manor. As she read through the entries, she discovered that Jonathan had been an avid collector of rare artifacts, many of which were said to possess supernatural powers.\\n\\nOne entry, dated October 31st, 1863, caught her attention:\\n\\n*\"Tonight, I shall attempt the ritual to communicate with the spirits that dwell within these walls. The artifacts are in place, and the symbols are drawn. I must know if the legends are true.\"*\\n\\nIntrigued, Clara decided to follow in Jonathan\\'s footsteps. She gathered the artifacts mentioned in the journal and arranged them in a circle in the grand hall. As she completed the final symbol, a sudden chill filled the air, and the candles flickered.\\n\\nA faint whisper echoed through the hall, growing louder with each passing second. Clara\\'s heart raced as she realized the whispers were forming words: \"Help us... free us...\"\\n\\nDetermined to uncover the truth, Clara followed the whispers to the basement, where she found a hidden door. Behind it was a small, dimly lit room with a single, ancient mirror. The whispers grew louder, and as Clara approached the mirror, she saw the reflection of a group of ghostly figures trapped within.\\n\\nOne of the figures, a woman with sorrowful eyes, spoke directly to Clara. \"We are the spirits bound to this place by Jonathan\\'s ritual. He sought power, but instead, he trapped us here. You must break the seal to free us.\"\\n\\nClara remembered the glowing symbols and quickly realized that they were the key. She hurried back to the grand hall and began to erase the symbols one by one. As the last symbol faded, a blinding light filled the room, and the whispers turned into relieved sighs.\\n\\nWhen the light subsided, the mansion felt different—warmer, almost welcoming. The spirits were gone, finally free from their centuries-old prison. Clara left Ravenwood Manor with a sense of accomplishment and a story that would captivate her readers.\\n\\nAs she walked back to town, she couldn\\'t help but glance back at the mansion. For the first time in years, it seemed at peace, its shadows no longer whispering secrets of the past.\\n\\n---\\n\\nI hope you enjoyed the mystery! If you have any other requests or need anything else, feel free to ask.', response_metadata={'token_usage': {'completion_tokens': 766, 'prompt_tokens': 77, 'total_tokens': 843}, 'model_name': 'gpt-4o-2024-05-13', 'system_fingerprint': 'fp_abc28019ad', 'prompt_filter_results': [{'prompt_index': 0, 'content_filter_results': {'hate': {'filtered': False, 'severity': 'safe'}, 'self_harm': {'filtered': False, 'severity': 'safe'}, 'sexual': {'filtered': False, 'severity': 'safe'}, 'violence': {'filtered': False, 'severity': 'safe'}}}], 'finish_reason': 'stop', 'logprobs': None, 'content_filter_results': {'hate': {'filtered': False, 'severity': 'safe'}, 'self_harm': {'filtered': False, 'severity': 'safe'}, 'sexual': {'filtered': False, 'severity': 'safe'}, 'violence': {'filtered': False, 'severity': 'safe'}}}, id='run-ebc3ccdd-4f79-4fa2-b953-c7a304a334c8-0', usage_metadata={'input_tokens': 77, 'output_tokens': 766, 'total_tokens': 843}),\n",
       "  HumanMessage(content='exit', id='6d24a34c-3350-4cf4-a238-cf7d327b5dd5')]}"
      ]
     },
     "execution_count": 80,
     "metadata": {},
     "output_type": "execute_result"
    }
   ],
   "source": [
    "graph.invoke({\"messages\": []})"
   ]
  },
  {
   "cell_type": "markdown",
   "metadata": {},
   "source": [
    "Ok zugegeben, das war eine Menge Code für einen Chatbot!\n",
    "\n",
    "Aber es zeigt zumindest einigermaßen, wie LangGraph tickt. Wir haben also offensichtlich einen Grafen, wo die Knoten Agentenfunktionen abbilden."
   ]
  }
 ],
 "metadata": {
  "kernelspec": {
   "display_name": ".venv",
   "language": "python",
   "name": "python3"
  },
  "language_info": {
   "codemirror_mode": {
    "name": "ipython",
    "version": 3
   },
   "file_extension": ".py",
   "mimetype": "text/x-python",
   "name": "python",
   "nbconvert_exporter": "python",
   "pygments_lexer": "ipython3",
   "version": "3.11.7"
  }
 },
 "nbformat": 4,
 "nbformat_minor": 2
}
