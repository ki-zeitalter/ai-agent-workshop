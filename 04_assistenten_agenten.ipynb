{
 "cells": [
  {
   "cell_type": "markdown",
   "metadata": {},
   "source": [
    "# Assistenten und Agenten\n",
    "\n",
    "Dieser Abschnitt nennt sich ja _Assistenten und Agenten_... aber was ist das?\n",
    "\n",
    "## Assistenten\n",
    "Fangen wir mit den Assistenten an. Diese findet man unter unterschiedlichen Namen, je nachdem bei welchem Anbieter von KIs man sich befindet. So nenn man die Assistenten bei OpenAI (also ChatGPT) Custom-GPTs.\n",
    "Ein Assistent ist im Grunde genommen ein Chatbot, der eine bestimmte Instruktion erhalten hat. In dieser Instruktion wird aufgeführt, was der Assisten für eine Aufgabe hat. Das ist praktisch der System-Prompt für diesen Assistenten. Häufig bekommen die Assistenten aber mehr Möglichkeiten, so sind sie häufig in der Lage Dateien auszuwerten (per RAG). Manchmal können sie auch Code erzeugen und sogar ausführen um eine Aufgabe zu lösen. So können z.B. die Assistenten bei OpenAI mit der Option \"Code Interpreter\" Python-Code erstellen und in einer Sandbox-Umgebung ausführen. So kann man z.B. eine CSV-Datei (und viele andere Formate) hochladen und den Assistenten bitten ein Diagramm zu erzeugen, das man dann herunterladen kann. Das Diagramm wird dann meist mithilfe von Python-Bibliotheken erstellt.\n",
    "\n",
    "Aber wie unterscheidet sich ein Assistent von einem Agenten? Eigentlich gar nicht wirklich. Von Assistenten spricht man gerne, wenn man über eine Oberfläche den Assistenten konfigurieren kann. Es ist also praktisch ein einfacher Agent-Baukasten.\n",
    "\n",
    "![OpenAI Assistent](bilder/openai-assistent.png)\n",
    "\n",
    "Was hat das mit uns zu tun? Das ist doch ein \"Klicki-Bunti-Tool\"!!!111 Naja, das ist schon sehr nützlich für uns, denn die Assistenten können wir zum einen über API-Aufrufe ausführen und auch erstellen. D.h. wir haben hier einen sehr einfachen Weg um einen Assistenten in unsere Anwendung einzubauen. Wir müssen uns also nicht um Themen wie RAG oder Code-Ausführung Gedanken machen.\n",
    "\n"
   ]
  },
  {
   "cell_type": "markdown",
   "metadata": {},
   "source": []
  },
  {
   "cell_type": "code",
   "execution_count": null,
   "metadata": {},
   "outputs": [],
   "source": []
  }
 ],
 "metadata": {
  "language_info": {
   "name": "python"
  }
 },
 "nbformat": 4,
 "nbformat_minor": 2
}
