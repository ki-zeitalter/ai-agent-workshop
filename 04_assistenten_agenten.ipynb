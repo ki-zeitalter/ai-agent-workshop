{
 "cells": [
  {
   "cell_type": "markdown",
   "metadata": {},
   "source": [
    "# Assistenten und Agenten\n",
    "\n",
    "Dieser Abschnitt nennt sich ja _Assistenten und Agenten_... aber was ist das?\n",
    "\n",
    "## Assistenten\n",
    "Fangen wir mit den Assistenten an. Diese findet man unter unterschiedlichen Namen, je nachdem bei welchem Anbieter von KIs man sich befindet. So nenn man die Assistenten bei OpenAI (also ChatGPT) Custom-GPTs.\n",
    "Ein Assistent ist im Grunde genommen ein Chatbot, der eine bestimmte Instruktion erhalten hat. In dieser Instruktion wird aufgeführt, was der Assisten für eine Aufgabe hat. Das ist praktisch der System-Prompt für diesen Assistenten. Häufig bekommen die Assistenten aber mehr Möglichkeiten, so sind sie häufig in der Lage Dateien auszuwerten (per RAG). Manchmal können sie auch Code erzeugen und sogar ausführen um eine Aufgabe zu lösen. So können z.B. die Assistenten bei OpenAI mit der Option \"Code Interpreter\" Python-Code erstellen und in einer Sandbox-Umgebung ausführen. So kann man z.B. eine CSV-Datei (und viele andere Formate) hochladen und den Assistenten bitten ein Diagramm zu erzeugen, das man dann herunterladen kann. Das Diagramm wird dann meist mithilfe von Python-Bibliotheken erstellt.\n",
    "\n",
    "Aber wie unterscheidet sich ein Assistent von einem Agenten? Eigentlich gar nicht wirklich. Von Assistenten spricht man gerne, wenn man über eine Oberfläche den Assistenten konfigurieren kann. Es ist also praktisch ein einfacher Agent-Baukasten.\n",
    "\n",
    "![OpenAI Assistent](bilder/openai-assistent.png)\n",
    "\n",
    "Was hat das mit uns zu tun? Das ist doch ein \"Klicki-Bunti-Tool\"!!!111 Naja, das ist schon sehr nützlich für uns, denn die Assistenten können wir zum einen über API-Aufrufe ausführen und auch erstellen. D.h. wir haben hier einen sehr einfachen Weg um einen Assistenten in unsere Anwendung einzubauen. Wir müssen uns also nicht um Themen wie RAG oder Code-Ausführung Gedanken machen.\n",
    "\n"
   ]
  },
  {
   "cell_type": "markdown",
   "metadata": {},
   "source": [
    "Lasst uns einen Assistenten via API erstellen und anschliessend benutzen. Du kannst anstelle die API zu nutzen auch über https://platform.openai.com/assistants einen Assistenten erstellen. Einfach einen vernünftigen Namen aussuchen und bei _Instructions_ die Aufgabe des Assistenten beschreiben. Die Tools kannst du alle deaktiviert lassen, die brauchen wir jetzt erstmal nicht. Bei Modell gerne gpt-4o auswählen. Anschliessend brauchst du nur die Assistenten-ID zu kopieren.\n",
    "\n",
    "Das sind die _Instructions_ die ich nutze:"
   ]
  },
  {
   "cell_type": "code",
   "execution_count": 3,
   "metadata": {},
   "outputs": [],
   "source": [
    "instruction = \"\"\"Du bist ein Assistent, der ein absoluter Experte in Sachen agiler Softwareentwicklung ist. \n",
    "Du hilfst dem Benutzer Userstories richtig zu formulieren. Du leitest den Benutzer an und fragst nach allen fehlenden Informationen. \n",
    "Wenn alle notwendigen Angaben gesammelt wurden, formulierst du die Userstory.\"\"\""
   ]
  },
  {
   "cell_type": "markdown",
   "metadata": {},
   "source": [
    "Wir fangen mit der Installation der Bibliotheken an und importieren dann ein Haufen Zeugs..."
   ]
  },
  {
   "cell_type": "code",
   "execution_count": 2,
   "metadata": {},
   "outputs": [
    {
     "name": "stdout",
     "output_type": "stream",
     "text": [
      "Requirement already satisfied: langchain in ./.venv/lib/python3.11/site-packages (0.2.5)\n",
      "Requirement already satisfied: langchain_openai in ./.venv/lib/python3.11/site-packages (0.1.9)\n",
      "Requirement already satisfied: langchain_community in ./.venv/lib/python3.11/site-packages (0.2.5)\n",
      "Requirement already satisfied: python-dotenv in ./.venv/lib/python3.11/site-packages (1.0.1)\n",
      "Requirement already satisfied: PyYAML>=5.3 in ./.venv/lib/python3.11/site-packages (from langchain) (6.0.1)\n",
      "Requirement already satisfied: SQLAlchemy<3,>=1.4 in ./.venv/lib/python3.11/site-packages (from langchain) (2.0.31)\n",
      "Requirement already satisfied: aiohttp<4.0.0,>=3.8.3 in ./.venv/lib/python3.11/site-packages (from langchain) (3.9.5)\n",
      "Requirement already satisfied: langchain-core<0.3.0,>=0.2.7 in ./.venv/lib/python3.11/site-packages (from langchain) (0.2.9)\n",
      "Requirement already satisfied: langchain-text-splitters<0.3.0,>=0.2.0 in ./.venv/lib/python3.11/site-packages (from langchain) (0.2.1)\n",
      "Requirement already satisfied: langsmith<0.2.0,>=0.1.17 in ./.venv/lib/python3.11/site-packages (from langchain) (0.1.81)\n",
      "Requirement already satisfied: numpy<2,>=1 in ./.venv/lib/python3.11/site-packages (from langchain) (1.26.4)\n",
      "Requirement already satisfied: pydantic<3,>=1 in ./.venv/lib/python3.11/site-packages (from langchain) (2.7.4)\n",
      "Requirement already satisfied: requests<3,>=2 in ./.venv/lib/python3.11/site-packages (from langchain) (2.32.3)\n",
      "Requirement already satisfied: tenacity<9.0.0,>=8.1.0 in ./.venv/lib/python3.11/site-packages (from langchain) (8.4.1)\n",
      "Requirement already satisfied: openai<2.0.0,>=1.26.0 in ./.venv/lib/python3.11/site-packages (from langchain_openai) (1.35.3)\n",
      "Requirement already satisfied: tiktoken<1,>=0.7 in ./.venv/lib/python3.11/site-packages (from langchain_openai) (0.7.0)\n",
      "Requirement already satisfied: dataclasses-json<0.7,>=0.5.7 in ./.venv/lib/python3.11/site-packages (from langchain_community) (0.6.7)\n",
      "Requirement already satisfied: aiosignal>=1.1.2 in ./.venv/lib/python3.11/site-packages (from aiohttp<4.0.0,>=3.8.3->langchain) (1.3.1)\n",
      "Requirement already satisfied: attrs>=17.3.0 in ./.venv/lib/python3.11/site-packages (from aiohttp<4.0.0,>=3.8.3->langchain) (23.2.0)\n",
      "Requirement already satisfied: frozenlist>=1.1.1 in ./.venv/lib/python3.11/site-packages (from aiohttp<4.0.0,>=3.8.3->langchain) (1.4.1)\n",
      "Requirement already satisfied: multidict<7.0,>=4.5 in ./.venv/lib/python3.11/site-packages (from aiohttp<4.0.0,>=3.8.3->langchain) (6.0.5)\n",
      "Requirement already satisfied: yarl<2.0,>=1.0 in ./.venv/lib/python3.11/site-packages (from aiohttp<4.0.0,>=3.8.3->langchain) (1.9.4)\n",
      "Requirement already satisfied: marshmallow<4.0.0,>=3.18.0 in ./.venv/lib/python3.11/site-packages (from dataclasses-json<0.7,>=0.5.7->langchain_community) (3.21.3)\n",
      "Requirement already satisfied: typing-inspect<1,>=0.4.0 in ./.venv/lib/python3.11/site-packages (from dataclasses-json<0.7,>=0.5.7->langchain_community) (0.9.0)\n",
      "Requirement already satisfied: jsonpatch<2.0,>=1.33 in ./.venv/lib/python3.11/site-packages (from langchain-core<0.3.0,>=0.2.7->langchain) (1.33)\n",
      "Requirement already satisfied: packaging<25,>=23.2 in ./.venv/lib/python3.11/site-packages (from langchain-core<0.3.0,>=0.2.7->langchain) (24.1)\n",
      "Requirement already satisfied: orjson<4.0.0,>=3.9.14 in ./.venv/lib/python3.11/site-packages (from langsmith<0.2.0,>=0.1.17->langchain) (3.10.5)\n",
      "Requirement already satisfied: anyio<5,>=3.5.0 in ./.venv/lib/python3.11/site-packages (from openai<2.0.0,>=1.26.0->langchain_openai) (4.4.0)\n",
      "Requirement already satisfied: distro<2,>=1.7.0 in ./.venv/lib/python3.11/site-packages (from openai<2.0.0,>=1.26.0->langchain_openai) (1.9.0)\n",
      "Requirement already satisfied: httpx<1,>=0.23.0 in ./.venv/lib/python3.11/site-packages (from openai<2.0.0,>=1.26.0->langchain_openai) (0.27.0)\n",
      "Requirement already satisfied: sniffio in ./.venv/lib/python3.11/site-packages (from openai<2.0.0,>=1.26.0->langchain_openai) (1.3.1)\n",
      "Requirement already satisfied: tqdm>4 in ./.venv/lib/python3.11/site-packages (from openai<2.0.0,>=1.26.0->langchain_openai) (4.66.4)\n",
      "Requirement already satisfied: typing-extensions<5,>=4.7 in ./.venv/lib/python3.11/site-packages (from openai<2.0.0,>=1.26.0->langchain_openai) (4.12.2)\n",
      "Requirement already satisfied: annotated-types>=0.4.0 in ./.venv/lib/python3.11/site-packages (from pydantic<3,>=1->langchain) (0.7.0)\n",
      "Requirement already satisfied: pydantic-core==2.18.4 in ./.venv/lib/python3.11/site-packages (from pydantic<3,>=1->langchain) (2.18.4)\n",
      "Requirement already satisfied: charset-normalizer<4,>=2 in ./.venv/lib/python3.11/site-packages (from requests<3,>=2->langchain) (3.3.2)\n",
      "Requirement already satisfied: idna<4,>=2.5 in ./.venv/lib/python3.11/site-packages (from requests<3,>=2->langchain) (3.7)\n",
      "Requirement already satisfied: urllib3<3,>=1.21.1 in ./.venv/lib/python3.11/site-packages (from requests<3,>=2->langchain) (2.2.2)\n",
      "Requirement already satisfied: certifi>=2017.4.17 in ./.venv/lib/python3.11/site-packages (from requests<3,>=2->langchain) (2024.6.2)\n",
      "Requirement already satisfied: regex>=2022.1.18 in ./.venv/lib/python3.11/site-packages (from tiktoken<1,>=0.7->langchain_openai) (2024.5.15)\n",
      "Requirement already satisfied: httpcore==1.* in ./.venv/lib/python3.11/site-packages (from httpx<1,>=0.23.0->openai<2.0.0,>=1.26.0->langchain_openai) (1.0.5)\n",
      "Requirement already satisfied: h11<0.15,>=0.13 in ./.venv/lib/python3.11/site-packages (from httpcore==1.*->httpx<1,>=0.23.0->openai<2.0.0,>=1.26.0->langchain_openai) (0.14.0)\n",
      "Requirement already satisfied: jsonpointer>=1.9 in ./.venv/lib/python3.11/site-packages (from jsonpatch<2.0,>=1.33->langchain-core<0.3.0,>=0.2.7->langchain) (3.0.0)\n",
      "Requirement already satisfied: mypy-extensions>=0.3.0 in ./.venv/lib/python3.11/site-packages (from typing-inspect<1,>=0.4.0->dataclasses-json<0.7,>=0.5.7->langchain_community) (1.0.0)\n",
      "\n",
      "\u001b[1m[\u001b[0m\u001b[34;49mnotice\u001b[0m\u001b[1;39;49m]\u001b[0m\u001b[39;49m A new release of pip is available: \u001b[0m\u001b[31;49m24.1\u001b[0m\u001b[39;49m -> \u001b[0m\u001b[32;49m24.1.1\u001b[0m\n",
      "\u001b[1m[\u001b[0m\u001b[34;49mnotice\u001b[0m\u001b[1;39;49m]\u001b[0m\u001b[39;49m To update, run: \u001b[0m\u001b[32;49mpip install --upgrade pip\u001b[0m\n"
     ]
    }
   ],
   "source": [
    "!pip install langchain langchain_openai langchain_community python-dotenv"
   ]
  },
  {
   "cell_type": "markdown",
   "metadata": {},
   "source": [
    "Wir legen jetzt den Assistenten per API an. Falls du über die Oberfläche den Assistenten erstellt hast, dann überspringe diesen Punkt und gehe zum nächstne Code-Block."
   ]
  },
  {
   "cell_type": "code",
   "execution_count": 10,
   "metadata": {},
   "outputs": [],
   "source": [
    "import os\n",
    "from dotenv import load_dotenv\n",
    "from langchain_community.agents.openai_assistant.base import OpenAIAssistantV2Runnable\n",
    "\n",
    "load_dotenv()\n",
    "os.environ[\"OPENAI_API_KEY\"] = os.getenv(\"OPENAI_API_KEY\")\n",
    "\n",
    "# Die Instruction haben wir oben definiert!\n",
    "\n",
    "userstory_assistant = OpenAIAssistantV2Runnable.create_assistant(\n",
    "    name=\"Userstory Assistent\",\n",
    "    instructions=instruction,\n",
    "    tools=[],\n",
    "    model=\"gpt-4o\",\n",
    ")\n"
   ]
  },
  {
   "cell_type": "markdown",
   "metadata": {},
   "source": [
    "Variante \"Assistent über Oberfläche\":"
   ]
  },
  {
   "cell_type": "code",
   "execution_count": 12,
   "metadata": {},
   "outputs": [
    {
     "name": "stderr",
     "output_type": "stream",
     "text": [
      "/Users/sgruenheit/PycharmProjects/ai-agent-workshop/.venv/lib/python3.11/site-packages/langchain_core/_api/beta_decorator.py:87: LangChainBetaWarning: The class `OpenAIAssistantV2Runnable` is in beta. It is actively being worked on, so the API may change.\n",
      "  warn_beta(\n"
     ]
    }
   ],
   "source": [
    "userstory_assistant = OpenAIAssistantV2Runnable(assistant_id=\"asst_i0sYKWJ6Xr9YWQX7RKLfBruO\")"
   ]
  },
  {
   "cell_type": "code",
   "execution_count": 13,
   "metadata": {},
   "outputs": [
    {
     "data": {
      "text/plain": [
       "[Message(id='msg_eZSSR7uigMEnCtLieTNUZDmV', assistant_id='asst_i0sYKWJ6Xr9YWQX7RKLfBruO', attachments=[], completed_at=None, content=[TextContentBlock(text=Text(annotations=[], value='Gerne helfe ich dir dabei! Um eine vollständige und präzise Userstory zu formulieren, benötige ich einige zusätzliche Informationen:\\n\\n1. **Wer ist der Benutzer oder die Rolle?** (z.B. Administrator, Endbenutzer, Manager)\\n2. **Was ist das Ziel oder die Funktionalität?** (z.B. neuen Benutzer anlegen, Benutzerprofil bearbeiten)\\n3. **Was ist der Nutzen oder der Mehrwert?** (z.B. um Zugriff auf das System zu gewähren, um Benutzerrechte zu verwalten)\\n4. **Gibt es spezifische Akzeptanzkriterien?** (z.B. Felder, die ausgefüllt werden müssen, Validierungen, Bestätigungen)\\n5. **Gibt es besondere Anforderungen oder Einschränkungen?** (z.B. bestimmte Felder, die Pflichtfelder sind, bestimmte Benutzerrollen, die erstellt werden können)\\n\\nKönntest du diese Informationen bereitstellen?'), type='text')], created_at=1720273429, incomplete_at=None, incomplete_details=None, metadata={}, object='thread.message', role='assistant', run_id='run_5XRK3ryWjOt0T8J0Wk9nGKai', status=None, thread_id='thread_lv7kHBggWAGG13cBLbK7QzBh')]"
      ]
     },
     "execution_count": 13,
     "metadata": {},
     "output_type": "execute_result"
    }
   ],
   "source": [
    "output = userstory_assistant.invoke({\"content\": \"Ich brauche eine Userstory für das Anlegen eines neuen Benutzers.\"})\n",
    "output"
   ]
  },
  {
   "cell_type": "markdown",
   "metadata": {},
   "source": [
    "Hinweis! Im Gegensatz zu den Chat-Endpunkt werden bei den Assistenten die Konversationen serverseitig gespeichert. Wenn du die Antwort genau studierst, dann siehst du, dass dort eine _thread\\_id_ geliefert wird. Diese ID identifiziert die Konversation.\n",
    "\n",
    "Hintergrund ist, dass wir dem Assistenten auch Dateien zur Verfügung stellen können. Da wäre es sehr ungünstig, wenn man bei jeder Frage die Dateien erneut übertragen müsste.\n",
    "\n",
    "### Was geht noch\n",
    "\n",
    "Den Assistenten können wir Tools an die Hand geben. Aber das sparen wir uns ein wenig auf, denn wir kommen langsam zu den Agenten. Übrigens kannst du den Assistenten oben auch als LangChain-Agent behandeln. Dazu muss man als Parameter _as_agent=True_ übergeben.\n",
    "Die Agenten schauen wir uns in den folgenden Abschnitten an!"
   ]
  }
 ],
 "metadata": {
  "kernelspec": {
   "display_name": ".venv",
   "language": "python",
   "name": "python3"
  },
  "language_info": {
   "codemirror_mode": {
    "name": "ipython",
    "version": 3
   },
   "file_extension": ".py",
   "mimetype": "text/x-python",
   "name": "python",
   "nbconvert_exporter": "python",
   "pygments_lexer": "ipython3",
   "version": "3.11.7"
  }
 },
 "nbformat": 4,
 "nbformat_minor": 2
}
