{
 "cells": [
  {
   "cell_type": "markdown",
   "metadata": {},
   "source": [
    "# KI \"anprogrammieren\" - Workshop\n",
    "\n",
    "## Worum geht es und was haben wir vor?\n",
    "\n",
    "Ich möchte mit euch heute eine Einführung in das Thema \"wie kann ich überhaupt die Power der KIs in meine Anwendungen bringen?\". Wir kennen alle wahrscheinlich die KI-Chatbots. Für viele ist es eine Spielerei, für andere (wie mich) ein sehr nützliches Werkzeug.\n",
    "\n",
    "\n",
    "Was ist jetzt aber, wenn ich KI in meine Anwendungen integrieren möchte? Wie geht das? Und was ist überhaupt möglich? Genau das möchte ich mit euch heute anschauen!\n",
    "\n",
    "### Die Themen\n",
    "\n",
    "- Einführung: Grundlegendes, APIs und Frameworks\n",
    "- LangChain: eines der führenden Frameworks... (aber nicht unbedingt das Beste)\n",
    "- RAG: kurze Einführung bzw. Auffrischung. Mit dem Thema könnte man durchaus eigenen Workshop machen, daher hier nur die Grundlagen.\n",
    "- Assistenten und Agenten: damit werden die KI-Anwendungen erst richtig spannend! Wir klären erstmal, was das alles ist und machen uns dann die Hände schön schmutzig!\n",
    "\n",
    "\n"
   ]
  },
  {
   "cell_type": "code",
   "execution_count": null,
   "metadata": {},
   "outputs": [],
   "source": []
  },
  {
   "cell_type": "markdown",
   "metadata": {},
   "source": [
    "## Warum Python?\n",
    "\n",
    "Python hat sich im ML-Bereich als Quasi-Standard etabliert und so liegt es nahe, dass Python auch im KI-Umfeld auch verwendet wird. Denn die Sprachmodelle (LLMs) sind ja ein Teilbereich des Machine Learnings.\n",
    "\n",
    "Aber! Es wäre eigentlich kein Muss! Zwar gibt es gerade für Python unzählige Bibliotheken und Frameworks, aber das Ökosystem für andere Programmiersprachen wächst. Und die Kommunikation mit den KIs läuft über REST-Aufrufe (in den allermeisten Fällen).\n",
    "\n",
    "Dieser Workshop richtet sich an alle Entwickler, die Interesse daran haben in das Thema \"KI anprogrammieren\" einzutauchen. Da wir meist unterschiedliche Programmiersprachen als \"Hauptprogrammiersprache\" haben, ist es gar nicht verkehrt, wenn wir uns einfach in der Mitte bei Python treffen ;)!\n",
    "\n",
    "Disclaimer: ich bin selber ein (fortgeschrittener) Python-Anfänger... denn ich komme aus der Java-Ecke! Aber ich stellte auch selber fest, dass das gar kein Problem ist! Die wichtigsten Sachen eignet man sich super schnell an!\n",
    "\n",
    "\n",
    "Wer ein paar Tipps und Hinweise braucht, sollte sich 99_python_basics.ipynb anschauen. Dort erläutere ich die wichtigsten Sachen, die man für den Workshop braucht."
   ]
  },
  {
   "cell_type": "markdown",
   "metadata": {},
   "source": [
    "## Einrichtung\n",
    "\n",
    "Der Workshop soll in der Theorie so laufen, dass ihr (fast) nichts einrichten müsst! \n",
    "\n",
    "\n",
    "Der Beste Weg diesen Workshop durchzuführen, ist es dem Link zu Google Colab zu folgen. Hier bekommt ihr eine kostenlose VM zur Verfügung gestellt, in der das Python-Notebook läuft. D.h. die Einrichtung einer Python-Umgebung entfällt komplett. Aber! Du brauchst einen Google-Account. Falls du noch keinen hast, dann wäre es am einfachsten schnell einen einzurichten. Diesen könnt ihr auch halbwegs anonym erstellen.\n",
    "\n",
    "Alternativ kannst du auch das GitHub-Projekt clonen und auf deiner eigenen Umgebung laufen lassen. In diesem Fall empfehle ich die Verwendung von Visual Studio Code (kostenlos). VS Code ermöglicht die Ausführung von Python-Notebooks. Hier empfiehlt es sich allerdings eine sog. virtuelle Umgebung einzurichten. Ich unterstütze gerne dabei!\n",
    "\n",
    "API-Keys: wir nutzen heute Chat-GPT bzw. die API von OpenAI. Diese API ist natürlcih kostenpflichtig und deswegen braucht man dafür einen API-Key. Dieser Workshop soll möglichst einfach von Statten gehen. Aus dem Grund stelle ich für alle, die keinen API-Key eingerichtet haben, einen eigenen zur Verfügung. Dieser Key ist während des Workshops gültig, danach lösche ich den Key.\n",
    "\n",
    "Es wäre jedoch sehr wünschenswert, wenn jeder, der kann, einen eigenen Key erzeugt. Das Problem könnte nämlich sein, dass wir in eine \"Rate Limit\" Situation kommen. D.h. wir machen zu viele Zugriffe innerhalb eines Zeitraumes. Das wäre schon sehr störend.\n",
    "\n",
    "Der API-Key an sich kostet euch nichts... die Nutzung der KI natürlich schon. Allerdings reden wir über einen ziemlich kleinen Betrag von wenigen Cents bis zu einstelligen Euro-Beträgen."
   ]
  },
  {
   "cell_type": "markdown",
   "metadata": {},
   "source": [
    "## Ablauf\n",
    "\n",
    "Es soll ein interaktiver Workshop sein! Es wechseln sich also Einführungen (von mir) und Phasen, wo ihr aufgefordert sein Übungen zu machen und Sachen auszuprobieren.\n",
    "\n",
    "Mal wieder ein Disclaimer: ich halte diesen Workshop zum ersten Mal und habe daher keine Erfahrungswerte, wie schnell wir voran kommen. Ich versuche natürlich alle Themen unterzubringen. Das kann dann bedeuten, dass ich über das eine oder andere Thema etwas schneller drüber gehen. Außerdem gebe ich diesen Workshop alleine und daher kann es zu Engpässen kommen, wenn ihr von mir Unterstützung braucht. Aber wir sind heute ein großes Team und unterstützen uns sicherlich gegenseitig!"
   ]
  },
  {
   "cell_type": "markdown",
   "metadata": {},
   "source": [
    "## Python-Notebooks\n",
    "\n",
    "Ich gehe davon aus, dass nicht jeder oder jede ein Python-Notebook kennt. Daher kommt hier eine kleine Einführung dazu!\n",
    "\n",
    "Python-Notebooks sind letztendlich Textdateien in einem bestimmten Format, das aus Markdown für die Texte und Code-Blöcken besteht. Die Code-Blöcke sind ausführbar und editierbar. D.h. ihr könnt direkt Code ausführen und ausprobieren und jederzeit ändern und erneut ausprobieren!\n",
    "\n",
    "Besonderheiten:\n",
    "\n",
    "- Man kann die Blöcke in beliebiger Reihenfolge ausführen und auch mehrfach ausführen.\n",
    "- Aber wichtig: das alles wird in einer gemeinsamen Umgebung ausgeführt und Variablen etc. gelten in allen Blöcken!\n",
    "- Oft ist ein Block von der Ausführung eines vorherigen Blocks abhängig. So wird z.B. ein komplexerer Code auf mehrere Blöcke zur besserer Übersicht aufgeteilt.\n",
    "- Ausgabe: die Ausgaben des Codes werden unterhalb des Blockes ausgegeben. \n",
    "- Variablen am Ende eines Blockes werden automatisch ausgegeben.\n",
    "\n",
    "Schauen wir uns ein einfaches Beispiel an:"
   ]
  },
  {
   "cell_type": "code",
   "execution_count": null,
   "metadata": {},
   "outputs": [],
   "source": [
    "meine_variable = \"Hallo Welt!\"\n",
    "print(meine_variable)\n",
    "\n",
    "meine_variable"
   ]
  },
  {
   "cell_type": "markdown",
   "metadata": {},
   "source": [
    "Wir sehen also zwei Ausgaben... 1x aus der Print-Anweisung und 1x, weil wir die Variable am Ende stehen haben."
   ]
  },
  {
   "cell_type": "markdown",
   "metadata": {},
   "source": [
    "Hier geht es zu den weiteren Kapiteln:\n",
    "\n",
    "[Intro](./00_intro.ipynb)\n",
    "\n",
    "[Langchain Einführung](01_langchain_einführung.ipynb)"
   ]
  }
 ],
 "metadata": {
  "kernelspec": {
   "display_name": ".venv",
   "language": "python",
   "name": "python3"
  },
  "language_info": {
   "codemirror_mode": {
    "name": "ipython",
    "version": 3
   },
   "file_extension": ".py",
   "mimetype": "text/x-python",
   "name": "python",
   "nbconvert_exporter": "python",
   "pygments_lexer": "ipython3",
   "version": "3.11.7"
  }
 },
 "nbformat": 4,
 "nbformat_minor": 2
}
