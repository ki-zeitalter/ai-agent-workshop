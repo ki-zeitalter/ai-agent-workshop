{
 "cells": [
  {
   "cell_type": "markdown",
   "metadata": {},
   "source": [
    "# Python Cheat-Sheet\n",
    "\n",
    "Sorry Leute! Da hat wohl die Vorbereitungszeit nicht mehr gereicht! \n",
    "\n",
    "Schau bitte statt dessen hier nach: https://quickref.me/python.html"
   ]
  },
  {
   "cell_type": "code",
   "execution_count": null,
   "metadata": {},
   "outputs": [],
   "source": []
  }
 ],
 "metadata": {
  "language_info": {
   "name": "python"
  }
 },
 "nbformat": 4,
 "nbformat_minor": 2
}
