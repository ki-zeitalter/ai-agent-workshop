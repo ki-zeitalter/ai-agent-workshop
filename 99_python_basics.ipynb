{
 "cells": [
  {
   "cell_type": "markdown",
   "metadata": {},
   "source": [
    "# Python Cheat-Sheet\n",
    "\n",
    "Da für die meisten von euch Python noch relativ unbekannt ist, zeige ich hier das Nötigste, das man für den Workshop benötigt. \n",
    "\n",
    "Keine Sorge, Python ist echt schnell und einfach zu lernen!"
   ]
  },
  {
   "cell_type": "code",
   "execution_count": null,
   "metadata": {},
   "outputs": [],
   "source": []
  }
 ],
 "metadata": {
  "language_info": {
   "name": "python"
  }
 },
 "nbformat": 4,
 "nbformat_minor": 2
}
