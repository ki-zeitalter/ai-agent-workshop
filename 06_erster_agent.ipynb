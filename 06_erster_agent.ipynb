{
 "cells": [
  {
   "cell_type": "markdown",
   "metadata": {},
   "source": [
    "# Erster Agent\n",
    "\n",
    "Es ist an der Zeit einen Agenten zu erstellen. Und zwar werden wir einen Agenten mit zwei-drei Tools erstellen. \n",
    "Als erstes Tool möchten wir dem Agenten Zugriff auf Wikipedia geben, damit der Agent mithilfe der Wikipedia-Artikel fundierte Antworten geben kann.\n",
    "Als zweites Tool bekommt der die DuckDuckGo-Funktion.\n",
    "\n"
   ]
  },
  {
   "cell_type": "code",
   "execution_count": 2,
   "metadata": {},
   "outputs": [
    {
     "name": "stdout",
     "output_type": "stream",
     "text": [
      "Requirement already satisfied: langchain in ./.venv/lib/python3.11/site-packages (0.2.5)\n",
      "Requirement already satisfied: langchain_openai in ./.venv/lib/python3.11/site-packages (0.1.9)\n",
      "Requirement already satisfied: python-dotenv in ./.venv/lib/python3.11/site-packages (1.0.1)\n",
      "Requirement already satisfied: duckduckgo-search in ./.venv/lib/python3.11/site-packages (6.1.9)\n",
      "Collecting wikipedia\n",
      "  Downloading wikipedia-1.4.0.tar.gz (27 kB)\n",
      "  Installing build dependencies ... \u001b[?25ldone\n",
      "\u001b[?25h  Getting requirements to build wheel ... \u001b[?25ldone\n",
      "\u001b[?25h  Preparing metadata (pyproject.toml) ... \u001b[?25ldone\n",
      "\u001b[?25hRequirement already satisfied: PyYAML>=5.3 in ./.venv/lib/python3.11/site-packages (from langchain) (6.0.1)\n",
      "Requirement already satisfied: SQLAlchemy<3,>=1.4 in ./.venv/lib/python3.11/site-packages (from langchain) (2.0.31)\n",
      "Requirement already satisfied: aiohttp<4.0.0,>=3.8.3 in ./.venv/lib/python3.11/site-packages (from langchain) (3.9.5)\n",
      "Requirement already satisfied: langchain-core<0.3.0,>=0.2.7 in ./.venv/lib/python3.11/site-packages (from langchain) (0.2.9)\n",
      "Requirement already satisfied: langchain-text-splitters<0.3.0,>=0.2.0 in ./.venv/lib/python3.11/site-packages (from langchain) (0.2.1)\n",
      "Requirement already satisfied: langsmith<0.2.0,>=0.1.17 in ./.venv/lib/python3.11/site-packages (from langchain) (0.1.81)\n",
      "Requirement already satisfied: numpy<2,>=1 in ./.venv/lib/python3.11/site-packages (from langchain) (1.26.4)\n",
      "Requirement already satisfied: pydantic<3,>=1 in ./.venv/lib/python3.11/site-packages (from langchain) (2.7.4)\n",
      "Requirement already satisfied: requests<3,>=2 in ./.venv/lib/python3.11/site-packages (from langchain) (2.32.3)\n",
      "Requirement already satisfied: tenacity<9.0.0,>=8.1.0 in ./.venv/lib/python3.11/site-packages (from langchain) (8.4.1)\n",
      "Requirement already satisfied: openai<2.0.0,>=1.26.0 in ./.venv/lib/python3.11/site-packages (from langchain_openai) (1.35.3)\n",
      "Requirement already satisfied: tiktoken<1,>=0.7 in ./.venv/lib/python3.11/site-packages (from langchain_openai) (0.7.0)\n",
      "Requirement already satisfied: click>=8.1.7 in ./.venv/lib/python3.11/site-packages (from duckduckgo-search) (8.1.7)\n",
      "Requirement already satisfied: pyreqwest-impersonate>=0.4.9 in ./.venv/lib/python3.11/site-packages (from duckduckgo-search) (0.4.9)\n",
      "Collecting beautifulsoup4 (from wikipedia)\n",
      "  Using cached beautifulsoup4-4.12.3-py3-none-any.whl.metadata (3.8 kB)\n",
      "Requirement already satisfied: aiosignal>=1.1.2 in ./.venv/lib/python3.11/site-packages (from aiohttp<4.0.0,>=3.8.3->langchain) (1.3.1)\n",
      "Requirement already satisfied: attrs>=17.3.0 in ./.venv/lib/python3.11/site-packages (from aiohttp<4.0.0,>=3.8.3->langchain) (23.2.0)\n",
      "Requirement already satisfied: frozenlist>=1.1.1 in ./.venv/lib/python3.11/site-packages (from aiohttp<4.0.0,>=3.8.3->langchain) (1.4.1)\n",
      "Requirement already satisfied: multidict<7.0,>=4.5 in ./.venv/lib/python3.11/site-packages (from aiohttp<4.0.0,>=3.8.3->langchain) (6.0.5)\n",
      "Requirement already satisfied: yarl<2.0,>=1.0 in ./.venv/lib/python3.11/site-packages (from aiohttp<4.0.0,>=3.8.3->langchain) (1.9.4)\n",
      "Requirement already satisfied: jsonpatch<2.0,>=1.33 in ./.venv/lib/python3.11/site-packages (from langchain-core<0.3.0,>=0.2.7->langchain) (1.33)\n",
      "Requirement already satisfied: packaging<25,>=23.2 in ./.venv/lib/python3.11/site-packages (from langchain-core<0.3.0,>=0.2.7->langchain) (24.1)\n",
      "Requirement already satisfied: orjson<4.0.0,>=3.9.14 in ./.venv/lib/python3.11/site-packages (from langsmith<0.2.0,>=0.1.17->langchain) (3.10.5)\n",
      "Requirement already satisfied: anyio<5,>=3.5.0 in ./.venv/lib/python3.11/site-packages (from openai<2.0.0,>=1.26.0->langchain_openai) (4.4.0)\n",
      "Requirement already satisfied: distro<2,>=1.7.0 in ./.venv/lib/python3.11/site-packages (from openai<2.0.0,>=1.26.0->langchain_openai) (1.9.0)\n",
      "Requirement already satisfied: httpx<1,>=0.23.0 in ./.venv/lib/python3.11/site-packages (from openai<2.0.0,>=1.26.0->langchain_openai) (0.27.0)\n",
      "Requirement already satisfied: sniffio in ./.venv/lib/python3.11/site-packages (from openai<2.0.0,>=1.26.0->langchain_openai) (1.3.1)\n",
      "Requirement already satisfied: tqdm>4 in ./.venv/lib/python3.11/site-packages (from openai<2.0.0,>=1.26.0->langchain_openai) (4.66.4)\n",
      "Requirement already satisfied: typing-extensions<5,>=4.7 in ./.venv/lib/python3.11/site-packages (from openai<2.0.0,>=1.26.0->langchain_openai) (4.12.2)\n",
      "Requirement already satisfied: annotated-types>=0.4.0 in ./.venv/lib/python3.11/site-packages (from pydantic<3,>=1->langchain) (0.7.0)\n",
      "Requirement already satisfied: pydantic-core==2.18.4 in ./.venv/lib/python3.11/site-packages (from pydantic<3,>=1->langchain) (2.18.4)\n",
      "Requirement already satisfied: charset-normalizer<4,>=2 in ./.venv/lib/python3.11/site-packages (from requests<3,>=2->langchain) (3.3.2)\n",
      "Requirement already satisfied: idna<4,>=2.5 in ./.venv/lib/python3.11/site-packages (from requests<3,>=2->langchain) (3.7)\n",
      "Requirement already satisfied: urllib3<3,>=1.21.1 in ./.venv/lib/python3.11/site-packages (from requests<3,>=2->langchain) (2.2.2)\n",
      "Requirement already satisfied: certifi>=2017.4.17 in ./.venv/lib/python3.11/site-packages (from requests<3,>=2->langchain) (2024.6.2)\n",
      "Requirement already satisfied: regex>=2022.1.18 in ./.venv/lib/python3.11/site-packages (from tiktoken<1,>=0.7->langchain_openai) (2024.5.15)\n",
      "Collecting soupsieve>1.2 (from beautifulsoup4->wikipedia)\n",
      "  Using cached soupsieve-2.5-py3-none-any.whl.metadata (4.7 kB)\n",
      "Requirement already satisfied: httpcore==1.* in ./.venv/lib/python3.11/site-packages (from httpx<1,>=0.23.0->openai<2.0.0,>=1.26.0->langchain_openai) (1.0.5)\n",
      "Requirement already satisfied: h11<0.15,>=0.13 in ./.venv/lib/python3.11/site-packages (from httpcore==1.*->httpx<1,>=0.23.0->openai<2.0.0,>=1.26.0->langchain_openai) (0.14.0)\n",
      "Requirement already satisfied: jsonpointer>=1.9 in ./.venv/lib/python3.11/site-packages (from jsonpatch<2.0,>=1.33->langchain-core<0.3.0,>=0.2.7->langchain) (3.0.0)\n",
      "Using cached beautifulsoup4-4.12.3-py3-none-any.whl (147 kB)\n",
      "Using cached soupsieve-2.5-py3-none-any.whl (36 kB)\n",
      "Building wheels for collected packages: wikipedia\n",
      "  Building wheel for wikipedia (pyproject.toml) ... \u001b[?25ldone\n",
      "\u001b[?25h  Created wheel for wikipedia: filename=wikipedia-1.4.0-py3-none-any.whl size=11680 sha256=7a42f602fb0e877e13af2670ecbbeaf61763490aa6ef061aad14c80961ee26a6\n",
      "  Stored in directory: /Users/sgruenheit/Library/Caches/pip/wheels/8f/ab/cb/45ccc40522d3a1c41e1d2ad53b8f33a62f394011ec38cd71c6\n",
      "Successfully built wikipedia\n",
      "Installing collected packages: soupsieve, beautifulsoup4, wikipedia\n",
      "Successfully installed beautifulsoup4-4.12.3 soupsieve-2.5 wikipedia-1.4.0\n",
      "\n",
      "\u001b[1m[\u001b[0m\u001b[34;49mnotice\u001b[0m\u001b[1;39;49m]\u001b[0m\u001b[39;49m A new release of pip is available: \u001b[0m\u001b[31;49m24.1\u001b[0m\u001b[39;49m -> \u001b[0m\u001b[32;49m24.1.1\u001b[0m\n",
      "\u001b[1m[\u001b[0m\u001b[34;49mnotice\u001b[0m\u001b[1;39;49m]\u001b[0m\u001b[39;49m To update, run: \u001b[0m\u001b[32;49mpip install --upgrade pip\u001b[0m\n"
     ]
    }
   ],
   "source": [
    "!pip install langchain langchain_openai python-dotenv duckduckgo-search wikipedia"
   ]
  },
  {
   "cell_type": "code",
   "execution_count": 16,
   "metadata": {},
   "outputs": [],
   "source": [
    "import os\n",
    "from langchain_core.messages import HumanMessage, SystemMessage, AIMessage\n",
    "from langchain.prompts import SystemMessagePromptTemplate, ChatPromptTemplate, MessagesPlaceholder, HumanMessagePromptTemplate, PromptTemplate\n",
    "\n",
    "from langchain_openai import ChatOpenAI\n",
    "from dotenv import load_dotenv\n",
    "from langchain_community.tools import DuckDuckGoSearchResults\n",
    "from langchain.tools import WikipediaQueryRun\n",
    "from langchain_community.utilities import WikipediaAPIWrapper\n",
    "from langchain_core.prompts import ChatPromptTemplate\n",
    "\n",
    "load_dotenv()\n",
    "os.environ[\"OPENAI_API_KEY\"] = os.getenv(\"OPENAI_API_KEY\")\n",
    "\n",
    "model = ChatOpenAI(model=\"gpt-4o\")"
   ]
  },
  {
   "cell_type": "code",
   "execution_count": 11,
   "metadata": {},
   "outputs": [],
   "source": [
    "search = DuckDuckGoSearchResults()\n",
    "\n",
    "wikipedia = WikipediaQueryRun(api_wrapper=WikipediaAPIWrapper())\n",
    "\n",
    "tools = [search, wikipedia]"
   ]
  },
  {
   "cell_type": "code",
   "execution_count": 17,
   "metadata": {},
   "outputs": [],
   "source": [
    "system_template = \"Du bist ein hilfreicher Assistent, der in der Lage ist die notwendigen Fakten im Internet zu suchen oder bei Wikipedia nachzuschlagen.\"\n",
    "\n",
    "prompt_template = ChatPromptTemplate.from_messages(\n",
    "    [\n",
    "        SystemMessagePromptTemplate(prompt=PromptTemplate(input_variables=[], template=system_template)),\n",
    "        MessagesPlaceholder(variable_name='chat_history', optional=True),\n",
    "        HumanMessagePromptTemplate(prompt=PromptTemplate(input_variables=['input'], template='{input}')),\n",
    "        MessagesPlaceholder(variable_name='agent_scratchpad')\n",
    "    ]\n",
    ")\n",
    "\n",
    "from langchain.agents import create_tool_calling_agent\n",
    "\n",
    "agent = create_tool_calling_agent(model, tools, prompt_template)"
   ]
  },
  {
   "cell_type": "code",
   "execution_count": 18,
   "metadata": {},
   "outputs": [],
   "source": [
    "from langchain.agents import AgentExecutor\n",
    "\n",
    "agent_executor = AgentExecutor(agent=agent, tools=tools, verbose=True)"
   ]
  },
  {
   "cell_type": "code",
   "execution_count": 19,
   "metadata": {},
   "outputs": [
    {
     "name": "stdout",
     "output_type": "stream",
     "text": [
      "\n",
      "\n",
      "\u001b[1m> Entering new AgentExecutor chain...\u001b[0m\n",
      "\u001b[32;1m\u001b[1;3m\n",
      "Invoking: `wikipedia` with `{'query': 'Olaf Scholz'}`\n",
      "\n",
      "\n",
      "\u001b[0m\u001b[33;1m\u001b[1;3mPage: Olaf Scholz\n",
      "Summary: Olaf Scholz (German: [ˈoːlaf ˈʃɔlts] ; born (1958-06-14)14 June 1958) is a German politician who has been the chancellor of Germany since 8 December 2021. A member of the Social Democratic Party (SPD), he previously served as Vice Chancellor in the fourth Merkel cabinet and as Federal Minister of Finance from 2018 to 2021. He was also First Mayor of Hamburg from 2011 to 2018, deputy leader of the SPD from 2009 to 2019, and Federal Minister of Labour and Social Affairs from 2007 to 2009.\n",
      "Scholz began his career as a lawyer specialising in labour and employment law. He became a member of the SPD in the 1970s and was a member of the Bundestag from 1998 to 2011. Scholz served in the Hamburg Government under First Mayor Ortwin Runde in 2001 and became General Secretary of the SPD in 2002, where he served alongside SPD leader and then-Chancellor Gerhard Schröder. He became his party's Chief Whip in the Bundestag, later entering the First Merkel Government in 2007 as Federal Minister for Labour and Social Affairs. After the SPD moved into the opposition following the 2009 election, Scholz returned to lead the SPD in Hamburg. He was then elected Deputy Leader of the SPD. He led his party to victory in the 2011 Hamburg state election and became First Mayor, a position he held until 2018.\n",
      "After the Social Democratic Party entered the fourth Merkel government in 2018, Scholz was appointed as both Minister of Finance and Vice Chancellor of Germany. In 2020, he was nominated as the SPD's candidate for Chancellor of Germany for the 2021 federal election. The party won a plurality of seats in the Bundestag and formed a \"traffic light coalition\" with Alliance 90/The Greens and the Free Democratic Party. On 8 December 2021, Scholz was elected and sworn in as Chancellor by the Bundestag, succeeding Angela Merkel.\n",
      "As Chancellor, Scholz has overseen Germany's response to the 2022 Russian invasion of Ukraine. Despite taking a more restrained and cautious response than many other Western leaders, Scholz oversaw a significant increase in the German defence budget, weapons shipments to Ukraine, and the suspension of the Nord Stream 2 pipeline. Three days after the invasion, Scholz set out the principles of a new German defence policy in his Zeitenwende speech. In September 2022, three of the four Nord Stream pipelines were destroyed. During the Israel–Hamas war, he authorized substantial German military and medical aid to Israel, and denounced the actions of Hamas and other Palestinian militant groups.\n",
      "\n",
      "Page: 2021 German federal election\n",
      "Summary: Federal elections were held in Germany on 26 September 2021 to elect the members of the 20th Bundestag. State elections in Berlin and Mecklenburg-Vorpommern were also held. Incumbent chancellor Angela Merkel, first elected in 2005, chose not to run again, marking the first time that an incumbent Chancellor of the Federal Republic of Germany did not seek re-election.\n",
      "With 25.7% of total votes, the Social Democratic Party of Germany (SPD) recorded their best result since 2005, and emerged as the largest party for the first time since 2002. The ruling CDU/CSU, which had led a grand coalition with the SPD since 2013, recorded their worst ever result with 24.1%, a significant decline from 32.9% in 2017. Alliance 90/The Greens achieved their best result in history at 14.7%, while the Free Democratic Party (FDP) made small gains and finished on 11.4%. The Alternative for Germany (AfD) fell from third to fifth place with 10.4%, a decline of 2.3 percentage points. The Left suffered their worst showing since their official formation in 2007, failing to cross the 5% electoral threshold by just over one-tenth of a percentage point. The party was nonetheless entitled to full proportional representation, as it won three direct constituencies.\n",
      "With a fifth grand coalition being dismissed by both the CDU/CSU and the SPD, the FDP and the Greens were considered kingmakers. On 23 November, following \u001b[0m\u001b[32;1m\u001b[1;3mOlaf Scholz wurde am 14. Juni 1958 geboren.\u001b[0m\n",
      "\n",
      "\u001b[1m> Finished chain.\u001b[0m\n"
     ]
    },
    {
     "data": {
      "text/plain": [
       "{'input': 'Guten Tag! Wann wurde Budeskanuzler Olfa Scholz geboren?',\n",
       " 'output': 'Olaf Scholz wurde am 14. Juni 1958 geboren.'}"
      ]
     },
     "execution_count": 19,
     "metadata": {},
     "output_type": "execute_result"
    }
   ],
   "source": [
    "result = agent_executor.invoke({\"input\": \"Guten Tag! Wann wurde Budeskanuzler Olfa Scholz geboren?\"})\n",
    "\n",
    "result"
   ]
  },
  {
   "cell_type": "code",
   "execution_count": 20,
   "metadata": {},
   "outputs": [
    {
     "name": "stdout",
     "output_type": "stream",
     "text": [
      "\n",
      "\n",
      "\u001b[1m> Entering new AgentExecutor chain...\u001b[0m\n",
      "\u001b[32;1m\u001b[1;3m\n",
      "Invoking: `duckduckgo_results_json` with `{'query': 'Münchner Oktoberfest 2023 Termine'}`\n",
      "\n",
      "\n",
      "\u001b[0m\u001b[36;1m\u001b[1;3m[snippet: Wann beginnt das Oktoberfest in München? Das 188. Oktoberfest auf der Theresienwiese beginnt am Samstag, den 16.September 2023.Um Punkt 12 Uhr zapft der Münchner Oberbürgermeister Dieter Reiter ..., title: Oktoberfest 2023 in München: Öffnungszeiten und Termine auf der Wiesn, link: https://www.sueddeutsche.de/muenchen/oktoberfest-2023-muenchen-oeffnungszeiten-termine-1.5642157], [snippet: Oktoberfest 2023: Der Bierpreis von bis zu 14,90 Euro kann sich sehen lassen. Aber das hindert kaum einen daran, mehrere Liter zu verköstigen. Quelle: imago images/ingimage. Schnäppchen sucht man auf dem Oktoberfest vergebens. Aber es gibt einige Mittagsangebote, den Feiertag am Dienstag, 3., title: Oktoberfest 2023 in München: Datum, Bier, Preise, Wetter, Tipps, link: https://www.reisereporter.de/reisenews/oktoberfest-2023-in-muenchen-datum-bier-preise-wetter-tipps-QP3MQJVKS5DFJOHLCEL6EYIPKI.html], [snippet: Oktoberfest 2023: Termin, Programm und alle Infos zur verlängerten Wiesn Die Stimmung auf der Wiesn - hier 2022 im Hacker-Pschorr-Zelt - wird auch 2023 gut sein. Und das Fest soll länger dauern., title: Oktoberfest 2023: Termin, Programm, Bierzelte, Reservieren, Öffnungszeiten, link: https://www.augsburger-allgemeine.de/bayern/oktoberfest-2023-termin-programm-bierzelte-reservieren-oeffnungszeiten-4-10-23-id64701746.html], [snippet: Auf dem Portal www.oktoberfest-booking.com haben sich bereits 20 Betriebe angemeldet. Und es wird auch einen neuen Stand geben: die »Münchner Weinstub'n«. In uriger Almatmosphäre werden hier Weine ausgeschenkt, die allesamt das Siegel »Bio-Bayern« tragen. Maßpreise. Die Bierpreise des Oktoberfests 2023 der großen Zelte:, title: Oktoberfest 2023 - Alles Wissenswerte auf einen Blick - Falstaff, link: https://www.falstaff.com/de/news/oktoberfest-2023-alles-wissenswerte-auf-einen-blick]\u001b[0m\u001b[32;1m\u001b[1;3mDas Münchner Oktoberfest 2023 findet vom 16. September bis zum 3. Oktober statt.\u001b[0m\n",
      "\n",
      "\u001b[1m> Finished chain.\u001b[0m\n"
     ]
    },
    {
     "data": {
      "text/plain": [
       "{'input': 'Wann findet das Münchner Oktoberfest statt?',\n",
       " 'output': 'Das Münchner Oktoberfest 2023 findet vom 16. September bis zum 3. Oktober statt.'}"
      ]
     },
     "execution_count": 20,
     "metadata": {},
     "output_type": "execute_result"
    }
   ],
   "source": [
    "result = agent_executor.invoke({\"input\": \"Wann findet das Münchner Oktoberfest statt?\"})\n",
    "\n",
    "result"
   ]
  },
  {
   "cell_type": "markdown",
   "metadata": {},
   "source": [
    "## ReAct\n",
    "\n",
    "Ein _ReAct Agent_ ist ein KI-System, das \"Reasoning and Acting\" (Denken und Handeln) kombiniert.\n",
    "\n",
    "- Abwechslung von Denken und Handeln: Der Agent wechselt zwischen Denkphasen, in denen er plant und schlussfolgert, und Handlungsphasen, in denen er Aktionen ausführt.\n",
    "- Schrittweise Problemlösung: Komplexe Aufgaben werden in kleinere Schritte zerlegt und sequentiell bearbeitet.\n",
    "- Anpassungsfähigkeit: Der Agent kann seinen Ansatz basierend auf Zwischenergebnissen oder neuen Informationen anpassen.\n",
    "- Werkzeuge: ReAct Agenten können oft externe Tools oder Datenquellen in ihren Problemlösungsprozess einbinden.\n"
   ]
  }
 ],
 "metadata": {
  "kernelspec": {
   "display_name": ".venv",
   "language": "python",
   "name": "python3"
  },
  "language_info": {
   "codemirror_mode": {
    "name": "ipython",
    "version": 3
   },
   "file_extension": ".py",
   "mimetype": "text/x-python",
   "name": "python",
   "nbconvert_exporter": "python",
   "pygments_lexer": "ipython3",
   "version": "3.11.7"
  }
 },
 "nbformat": 4,
 "nbformat_minor": 2
}
