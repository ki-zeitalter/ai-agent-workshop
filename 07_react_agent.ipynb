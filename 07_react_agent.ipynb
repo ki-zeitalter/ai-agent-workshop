{
 "cells": [
  {
   "cell_type": "markdown",
   "metadata": {},
   "source": [
    "# ReAct\n",
    "\n",
    "Ein _ReAct Agent_ ist ein KI-System, das \"Reasoning and Acting\" (Denken und Handeln) kombiniert. Dieses Verfahren basiert auf einem Paper: https://react-lm.github.io/.\n",
    "\n",
    "- Abwechslung von Denken und Handeln: Der Agent wechselt zwischen Denkphasen, in denen er plant und schlussfolgert, und Handlungsphasen, in denen er Aktionen ausführt.\n",
    "- Schrittweise Problemlösung: Komplexe Aufgaben werden in kleinere Schritte zerlegt und sequentiell bearbeitet.\n",
    "- Anpassungsfähigkeit: Der Agent kann seinen Ansatz basierend auf Zwischenergebnissen oder neuen Informationen anpassen.\n",
    "- Werkzeuge: ReAct Agenten können oft externe Tools oder Datenquellen in ihren Problemlösungsprozess einbinden.\n",
    "\n",
    "Der Vorteil von diesem Verfahren ist, dass die Ergebnisse meist sehr viel besser sind, als wenn man einfach nur in einem One-Shot versucht die finale Antwort zu bekommen.\n",
    "\n",
    "Jetzt werden wir noch tiefer in die automatische Trickkiste von LangChain graben, denn schlaue Leute haben sich schon Gedanken gemacht und wir machen uns das zunutze!\n",
    "Wie zuvor bekommt der Agent Tools an die Hand. Wir nutzen einfach die Tools, die wir im letzten Abschnitt verfügbar gemacht haben.\n",
    "\n",
    "Starten wir also mit der Initialisierung."
   ]
  },
  {
   "cell_type": "code",
   "execution_count": null,
   "metadata": {},
   "outputs": [],
   "source": [
    "!pip install langchain langchain_openai python-dotenv duckduckgo-search wikipedia langchainhub"
   ]
  },
  {
   "cell_type": "code",
   "execution_count": null,
   "metadata": {},
   "outputs": [],
   "source": [
    "import os\n",
    "from langchain_core.messages import HumanMessage, SystemMessage, AIMessage\n",
    "from langchain.prompts import SystemMessagePromptTemplate, ChatPromptTemplate, MessagesPlaceholder, HumanMessagePromptTemplate, PromptTemplate\n",
    "\n",
    "from langchain_openai import ChatOpenAI\n",
    "from dotenv import load_dotenv\n",
    "from langchain_community.tools import DuckDuckGoSearchResults\n",
    "from langchain.tools import WikipediaQueryRun\n",
    "from langchain_community.utilities import WikipediaAPIWrapper\n",
    "from langchain_core.prompts import ChatPromptTemplate\n",
    "from langchain.agents import AgentExecutor, create_react_agent\n",
    "from langchain import hub\n",
    "\n",
    "load_dotenv()\n",
    "os.environ[\"OPENAI_API_KEY\"] = os.getenv(\"OPENAI_API_KEY\")\n",
    "\n",
    "model = ChatOpenAI(model=\"gpt-4o\")\n",
    "\n",
    "search = DuckDuckGoSearchResults()\n",
    "\n",
    "wikipedia = WikipediaQueryRun(api_wrapper=WikipediaAPIWrapper())\n",
    "\n",
    "tools = [search, wikipedia]"
   ]
  },
  {
   "cell_type": "markdown",
   "metadata": {},
   "source": [
    "Jetzt werden wir den Agenten anlegen (lassen). Dabei nutzen wir alles an Automatismus, der geboten wird. So holen wir sogar den Prompt von einem _Hub_. Auf diesem Hub (https://smith.langchain.com/hub) gibt es eine Menge Usergenerierter-Prompts, die man bequem mit einem Befehl holen kann.\n",
    "\n",
    "Zusätzlich nutzen wir eine Hilfsfunktion, um einen ReAct-Agenten zu erstellen."
   ]
  },
  {
   "cell_type": "code",
   "execution_count": null,
   "metadata": {},
   "outputs": [],
   "source": [
    "# Wir holen uns den Prompt aus eine online Repository: https://smith.langchain.com/hub/hwchase17/react\n",
    "prompt = hub.pull(\"hwchase17/react\")\n",
    "\n",
    "agent = create_react_agent(model, tools, prompt)\n",
    "\n",
    "agent_executor = AgentExecutor(agent=agent, tools=tools, verbose=True)"
   ]
  },
  {
   "cell_type": "markdown",
   "metadata": {},
   "source": [
    "Jetzt wo wir den Executor haben, können wir auch den Agenten schon mal mit der ersten Aufgabe beschäftigen."
   ]
  },
  {
   "cell_type": "code",
   "execution_count": null,
   "metadata": {},
   "outputs": [],
   "source": [
    "agent_executor.invoke({\"input\": \"Was ist LangChain?\"})"
   ]
  },
  {
   "cell_type": "markdown",
   "metadata": {},
   "source": [
    "Das war eine relativ einfache Aufgabe. Aber man sieht schon, dass anstelle, dass der Agent einfach eine Suche lostritt, sich erstmal \"Gedanken\" macht, wie man zu der Lösung kommen könnte.\n",
    "\n",
    "Lass uns den Agenten mit etwas komplizierteren Aufgabe beschäftigen."
   ]
  },
  {
   "cell_type": "code",
   "execution_count": 11,
   "metadata": {},
   "outputs": [
    {
     "name": "stdout",
     "output_type": "stream",
     "text": [
      "\n",
      "\n",
      "\u001b[1m> Entering new AgentExecutor chain...\u001b[0m\n",
      "\u001b[32;1m\u001b[1;3mIch sollte nach Informationen suchen, wie man aus Holzpaletten eine Gartenhütte bauen kann.\n",
      "\n",
      "Action: duckduckgo_results_json\n",
      "Action Input: \"Holzpaletten Gartenhütte bauen Anleitung\"\u001b[0m\u001b[36;1m\u001b[1;3m[snippet: Schritt-für-Schritt-Anleitung Gartenhaus aus Paletten bauen. Wenn Sie ein Häuschen für den Garten bauen wollen und dabei auf Ziegelsteine, Bagger und anderes verzichten möchten, dann bietet sich ein Gartenhäuschen aus Europaletten an. Das ist nicht nur einfach, sondern auch voll trendy., title: Gartenhaus aus Paletten - so bauen Sie es selbst - HELPSTER, link: https://www.helpster.de/gartenhaus-aus-paletten-so-bauen-sie-es-selbst_232200], [snippet: Aus Europaletten kannst du viele unterschiedliche Gartenmöbel bauen. Besonders unkompliziert sind niedrige Sitzmöbel, eine Sitzecke oder kleine Tische für deine Terrasse sowie Hochbeete, Outdoor-Theken und Schaukeln für den Garten. Der Bau der Gartenmöbel ist mit einer detaillierten DIY-Anleitung auch für Anfänger gut zu bewältigen., title: Gartenmöbel aus Paletten selber bauen - Tipps | OBI, link: https://www.obi.de/magazin/garten/gartengestaltung/paletten-gartenmoebel], [snippet: Jetzt kostenlosen Bauplan samt Maße für dieses Gartenhaus-Projekt herunterladen: Planen Sie das Gartenhaus so, dass es auch optisch gut in Ihren Garten passt. Zu überdimensioniert kann das Gesamtbild des Außenbereichs empfindlich stören. Planen und bauen Sie hingegen zu klein, stört das nicht nur optisch, es ist auch Platzverschwendung ..., title: Gartenhaus selber bauen mit Anleitung und Gratis-Bauplan, link: https://selbermachen.de/garten/gartenhaus-selber-bauen/gartenhaus-selber-bauen-anleitung-und-bauplan], [snippet: So bauen Sie relativ schnell eine geräumige und klassische Holzhütte für den Garten. Für die meisten Gartenbesitzer ist ein Bausatz für eine Hütte, der schnell aufgestellt ist, genau richtig. Wenn aber das neue Gartenhaus etwas Besonderes werden soll, dann lohnt es sich, daraus ein DIY-Projekt zu machen. Unsere Schuppen bietet neben ..., title: Holzhütte für den Garten bauen - SELBER MACHEN Heimwerkermagazin, link: https://selbermachen.de/garten/gartenhaus-selber-bauen/holzhuette]\u001b[0m\u001b[32;1m\u001b[1;3mIch habe eine vielversprechende Anleitung gefunden, wie man ein Gartenhaus aus Paletten bauen kann. Hier ist ein Link zu einer Schritt-für-Schritt-Anleitung:\n",
      "\n",
      "[Anleitung zum Bau eines Gartenhauses aus Holzpaletten](https://www.helpster.de/gartenhaus-aus-paletten-so-bauen-sie-es-selbst_232200)\n",
      "\n",
      "Diese Seite bietet detaillierte Informationen und Anweisungen, wie man ein Gartenhäuschen aus Europaletten selbst bauen kann. Es ist eine praktische und trendige Option, die auf Ziegelsteine und Bagger verzichtet.\n",
      "\n",
      "Final Answer: Du kannst eine Schritt-für-Schritt-Anleitung zum Bau einer Gartenhütte aus Holzpaletten auf der folgenden Seite finden: [Helpster - Gartenhaus aus Paletten bauen](https://www.helpster.de/gartenhaus-aus-paletten-so-bauen-sie-es-selbst_232200).\u001b[0m\n",
      "\n",
      "\u001b[1m> Finished chain.\u001b[0m\n"
     ]
    },
    {
     "data": {
      "text/plain": [
       "{'input': 'Ich habe einige Holz-Paletten rumstehen und möchte daraus eine Gartenhütte bauen. Wie geht das?',\n",
       " 'output': 'Du kannst eine Schritt-für-Schritt-Anleitung zum Bau einer Gartenhütte aus Holzpaletten auf der folgenden Seite finden: [Helpster - Gartenhaus aus Paletten bauen](https://www.helpster.de/gartenhaus-aus-paletten-so-bauen-sie-es-selbst_232200).'}"
      ]
     },
     "execution_count": 11,
     "metadata": {},
     "output_type": "execute_result"
    }
   ],
   "source": [
    "agent_executor.invoke({\"input\": \"Ich habe einige Holz-Paletten rumstehen und möchte daraus eine Gartenhütte bauen. Wie geht das?\"})"
   ]
  },
  {
   "cell_type": "markdown",
   "metadata": {},
   "source": [
    "In meinem Fall hat der Agent ganz schnell eine Anleitung gefunden und mir als Ergebnis präsentiert. Wo der Agent glänzt, ist wenn man eine Aufgabe vergibt, die nicht einfach durch eine einfache Suche direkt erledigt werden kann. Häufiger Usecase ist Recherchearbeit.\n",
    "\n"
   ]
  }
 ],
 "metadata": {
  "kernelspec": {
   "display_name": ".venv",
   "language": "python",
   "name": "python3"
  },
  "language_info": {
   "codemirror_mode": {
    "name": "ipython",
    "version": 3
   },
   "file_extension": ".py",
   "mimetype": "text/x-python",
   "name": "python",
   "nbconvert_exporter": "python",
   "pygments_lexer": "ipython3",
   "version": "3.11.7"
  }
 },
 "nbformat": 4,
 "nbformat_minor": 2
}
