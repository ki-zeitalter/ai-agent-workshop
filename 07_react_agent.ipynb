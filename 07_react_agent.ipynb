{
 "cells": [
  {
   "cell_type": "markdown",
   "metadata": {},
   "source": [
    "# ReAct\n",
    "\n",
    "Ein _ReAct Agent_ ist ein KI-System, das \"Reasoning and Acting\" (Denken und Handeln) kombiniert. Dieses Verfahren basiert auf einem Paper: https://react-lm.github.io/.\n",
    "\n",
    "- Abwechslung von Denken und Handeln: Der Agent wechselt zwischen Denkphasen, in denen er plant und schlussfolgert, und Handlungsphasen, in denen er Aktionen ausführt.\n",
    "- Schrittweise Problemlösung: Komplexe Aufgaben werden in kleinere Schritte zerlegt und sequentiell bearbeitet.\n",
    "- Anpassungsfähigkeit: Der Agent kann seinen Ansatz basierend auf Zwischenergebnissen oder neuen Informationen anpassen.\n",
    "- Werkzeuge: ReAct Agenten können oft externe Tools oder Datenquellen in ihren Problemlösungsprozess einbinden.\n",
    "\n",
    "Der Vorteil von diesem Verfahren ist, dass die Ergebnisse meist sehr viel besser sind, als wenn man einfach nur in einem One-Shot versucht die finale Antwort zu bekommen.\n",
    "\n",
    "Jetzt werden wir noch tiefer in die automatische Trickkiste von LangChain graben, denn schlaue Leute haben sich schon Gedanken gemacht und wir machen uns das zunutze!\n",
    "Wie zuvor bekommt der Agent Tools an die Hand. Wir nutzen einfach die Tools, die wir im letzten Abschnitt verfügbar gemacht haben.\n",
    "\n",
    "Starten wir also mit der Initialisierung."
   ]
  },
  {
   "cell_type": "code",
   "execution_count": null,
   "metadata": {},
   "outputs": [],
   "source": [
    "!pip install langchain langchain_openai python-dotenv duckduckgo-search wikipedia langchainhub"
   ]
  },
  {
   "cell_type": "code",
   "execution_count": null,
   "metadata": {},
   "outputs": [],
   "source": [
    "import os\n",
    "from langchain_core.messages import HumanMessage, SystemMessage, AIMessage\n",
    "from langchain.prompts import SystemMessagePromptTemplate, ChatPromptTemplate, MessagesPlaceholder, HumanMessagePromptTemplate, PromptTemplate\n",
    "\n",
    "from langchain_openai import ChatOpenAI, AzureChatOpenAI\n",
    "from dotenv import load_dotenv\n",
    "from langchain_community.tools import DuckDuckGoSearchResults\n",
    "from langchain.tools import WikipediaQueryRun\n",
    "from langchain_community.utilities import WikipediaAPIWrapper\n",
    "from langchain_core.prompts import ChatPromptTemplate\n",
    "from langchain.agents import AgentExecutor, create_react_agent\n",
    "from langchain import hub\n",
    "\n",
    "load_dotenv()\n",
    "os.environ[\"OPENAI_API_KEY\"] = os.getenv(\"OPENAI_API_KEY\")\n",
    "os.environ[\"AZURE_OPENAI_API_KEY\"] = os.getenv(\"AZURE_OPENAI_API_KEY\")\n",
    "os.environ[\"AZURE_OPENAI_ENDPOINT\"] = os.getenv(\"AZURE_OPENAI_ENDPOINT\")\n",
    "\n",
    "# model = ChatOpenAI(model=\"gpt-4o\")\n",
    "model = AzureChatOpenAI(openai_api_version=\"2024-05-01-preview\", azure_deployment=\"gpt-4o\", temperature=0.5, streaming=True)\n",
    "\n",
    "search = DuckDuckGoSearchResults()\n",
    "\n",
    "wikipedia = WikipediaQueryRun(api_wrapper=WikipediaAPIWrapper())\n",
    "\n",
    "tools = [search, wikipedia]"
   ]
  },
  {
   "cell_type": "markdown",
   "metadata": {},
   "source": [
    "Jetzt werden wir den Agenten anlegen (lassen). Dabei nutzen wir alles an Automatismus, der geboten wird. So holen wir sogar den Prompt von einem _Hub_. Auf diesem Hub (https://smith.langchain.com/hub) gibt es eine Menge Usergenerierter-Prompts, die man bequem mit einem Befehl holen kann.\n",
    "\n",
    "Zusätzlich nutzen wir eine Hilfsfunktion, um einen ReAct-Agenten zu erstellen."
   ]
  },
  {
   "cell_type": "code",
   "execution_count": null,
   "metadata": {},
   "outputs": [],
   "source": [
    "# Wir holen uns den Prompt aus eine online Repository: https://smith.langchain.com/hub/hwchase17/react\n",
    "prompt = hub.pull(\"hwchase17/react\")\n",
    "\n",
    "agent = create_react_agent(model, tools, prompt)\n",
    "\n",
    "agent_executor = AgentExecutor(agent=agent, tools=tools, verbose=True)"
   ]
  },
  {
   "cell_type": "markdown",
   "metadata": {},
   "source": [
    "Jetzt wo wir den Executor haben, können wir auch den Agenten schon mal mit der ersten Aufgabe beschäftigen."
   ]
  },
  {
   "cell_type": "code",
   "execution_count": null,
   "metadata": {},
   "outputs": [],
   "source": [
    "agent_executor.invoke({\"input\": \"Was ist LangChain?\"})"
   ]
  },
  {
   "cell_type": "markdown",
   "metadata": {},
   "source": [
    "Das war eine relativ einfache Aufgabe. Aber man sieht schon, dass anstelle, dass der Agent einfach eine Suche lostritt, sich erstmal \"Gedanken\" macht, wie man zu der Lösung kommen könnte.\n",
    "\n",
    "Lass uns den Agenten mit etwas komplizierteren Aufgabe beschäftigen."
   ]
  },
  {
   "cell_type": "code",
   "execution_count": null,
   "metadata": {},
   "outputs": [],
   "source": [
    "agent_executor.invoke({\"input\": \"Ich habe einige Holz-Paletten rumstehen und möchte daraus eine Gartenhütte bauen. Wie geht das?\"})"
   ]
  },
  {
   "cell_type": "markdown",
   "metadata": {},
   "source": [
    "In meinem Fall hat der Agent ganz schnell eine Anleitung gefunden und mir als Ergebnis präsentiert. Wo der Agent glänzt, ist wenn man eine Aufgabe vergibt, die nicht einfach durch eine einfache Suche direkt erledigt werden kann. Häufiger Usecase ist Recherchearbeit.\n",
    "\n"
   ]
  },
  {
   "cell_type": "markdown",
   "metadata": {},
   "source": [
    "# Aufgabe\n",
    "\n",
    "Jetzt haben wir uns einen ReAct-Agenten gebaut. Diese Agenten sind nützlich, wenn man z.B. Recherchen machen möchte.\n",
    "Erstelle einen ReAct-Agenten mit einer RAG-Fähigkeit. D.h. du stellst ihm ein RAG-Tool zur Verfügung.\n",
    "\n",
    "Lösungshinweise:\n",
    "\n",
    "- Du musst, wie wir das schon gelernt haben, einen Retriever zunächst erstellen. Nutze gerne die beigelegten Dokumente als Wissensdatenbank.\n",
    "- Aus dem Retriever musst du ein Tool bauen. Es gibt dafür eine Hilfsfunktion: _create\\_retriever\\_tool_ aus dem Paket _langchain.agents.agent\\_toolkits_\n",
    "- Denke daran, dass dieses Tool auch eine vernünftige Beschreibung braucht, damit der Agent weiß wozu das gut ist.\n",
    "\n"
   ]
  },
  {
   "cell_type": "code",
   "execution_count": null,
   "metadata": {},
   "outputs": [],
   "source": [
    "# Hier kannst du deine Lösung programmieren"
   ]
  },
  {
   "cell_type": "markdown",
   "metadata": {},
   "source": [
    "Hier geht es zum nächsten Abschnitt: LangGraph: [![Open In Colab](https://colab.research.google.com/assets/colab-badge.svg)](https://colab.research.google.com/github/ki-zeitalter/ai-agent-workshop/blob/main/08_langgraph.ipynb)"
   ]
  }
 ],
 "metadata": {
  "kernelspec": {
   "display_name": ".venv",
   "language": "python",
   "name": "python3"
  },
  "language_info": {
   "codemirror_mode": {
    "name": "ipython",
    "version": 3
   },
   "file_extension": ".py",
   "mimetype": "text/x-python",
   "name": "python",
   "nbconvert_exporter": "python",
   "pygments_lexer": "ipython3",
   "version": "3.11.7"
  }
 },
 "nbformat": 4,
 "nbformat_minor": 2
}
